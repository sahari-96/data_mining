{
  "nbformat": 4,
  "nbformat_minor": 0,
  "metadata": {
    "colab": {
      "name": "DataM_StudentDataset.ipynb",
      "provenance": []
    },
    "kernelspec": {
      "name": "python3",
      "display_name": "Python 3"
    },
    "language_info": {
      "name": "python"
    }
  },
  "cells": [
    {
      "cell_type": "markdown",
      "source": [
        "# IMPORTS AND VISUALIZATION"
      ],
      "metadata": {
        "id": "NG7wPmJFc0R-"
      }
    },
    {
      "cell_type": "code",
      "source": [
        "from google.colab import drive\n",
        "drive.mount('/content/drive')"
      ],
      "metadata": {
        "colab": {
          "base_uri": "https://localhost:8080/"
        },
        "id": "-y2znmU2aqwJ",
        "outputId": "ea94dbed-3585-473b-fa39-84f58ac327f7"
      },
      "execution_count": null,
      "outputs": [
        {
          "output_type": "stream",
          "name": "stdout",
          "text": [
            "Drive already mounted at /content/drive; to attempt to forcibly remount, call drive.mount(\"/content/drive\", force_remount=True).\n"
          ]
        }
      ]
    },
    {
      "cell_type": "code",
      "source": [
        "import pandas as pd\n",
        "import numpy as np\n",
        "import matplotlib.pyplot as plt\n",
        "import seaborn as sns\n",
        "from sklearn.model_selection import train_test_split\n",
        "from sklearn.preprocessing import LabelEncoder\n",
        "from keras.models import Model\n",
        "from keras.layers import LSTM, Activation, Dense, Dropout, Input, Embedding\n",
        "#from keras.optimizers import RMSprop\n",
        "from keras.preprocessing.text import Tokenizer\n",
        "from keras.preprocessing import sequence\n",
        "#from keras.utils import to_categorical\n",
        "from keras.callbacks import EarlyStopping\n",
        "%matplotlib inline\n",
        "from nltk.tokenize import word_tokenize\n",
        "from __future__ import unicode_literals\n",
        "from keras.preprocessing.text import Tokenizer\n",
        "from keras.preprocessing.sequence import pad_sequences\n",
        "\n",
        "import nltk\n",
        "nltk.download(\"wordnet\")\n",
        "!pip install hazm\n",
        "from hazm import *\n",
        "\n",
        "\n",
        "\n",
        "# Keras\n",
        "from keras import optimizers\n",
        "from keras.models import Model, Sequential\n",
        "from keras.layers import Dense, Input, Embedding, Dropout\n",
        "from keras.layers import GlobalMaxPool1D, MaxPooling1D, GlobalMaxPooling1D\n",
        "from keras.layers import CuDNNLSTM, LSTM, Bidirectional\n",
        "from keras.layers.convolutional import Conv1D\n",
        "from tensorflow.keras.utils import to_categorical\n",
        "from keras.preprocessing.text import Tokenizer\n",
        "from keras.preprocessing.sequence import pad_sequences"
      ],
      "metadata": {
        "colab": {
          "base_uri": "https://localhost:8080/",
          "height": 574
        },
        "id": "5Zkj5JYXbM9f",
        "outputId": "bc430de8-7cba-4604-ea24-904cc8bdc6cf"
      },
      "execution_count": 1,
      "outputs": [
        {
          "output_type": "stream",
          "name": "stderr",
          "text": [
            "[nltk_data] Downloading package wordnet to /root/nltk_data...\n"
          ]
        },
        {
          "output_type": "stream",
          "name": "stdout",
          "text": [
            "Looking in indexes: https://pypi.org/simple, https://us-python.pkg.dev/colab-wheels/public/simple/\n",
            "Collecting hazm\n",
            "  Downloading hazm-0.7.0-py3-none-any.whl (316 kB)\n",
            "\u001b[K     |████████████████████████████████| 316 kB 8.5 MB/s \n",
            "\u001b[?25hCollecting nltk==3.3\n",
            "  Downloading nltk-3.3.0.zip (1.4 MB)\n",
            "\u001b[K     |████████████████████████████████| 1.4 MB 43.3 MB/s \n",
            "\u001b[?25hCollecting libwapiti>=0.2.1\n",
            "  Downloading libwapiti-0.2.1.tar.gz (233 kB)\n",
            "\u001b[K     |████████████████████████████████| 233 kB 43.2 MB/s \n",
            "\u001b[?25hRequirement already satisfied: six in /usr/local/lib/python3.7/dist-packages (from nltk==3.3->hazm) (1.15.0)\n",
            "Building wheels for collected packages: nltk, libwapiti\n",
            "  Building wheel for nltk (setup.py) ... \u001b[?25l\u001b[?25hdone\n",
            "  Created wheel for nltk: filename=nltk-3.3-py3-none-any.whl size=1394484 sha256=a1a1bda98d525b99da5641c3cb36c0e65b58ba9d91d78ff605c3cd8daa15a8b4\n",
            "  Stored in directory: /root/.cache/pip/wheels/9b/fd/0c/d92302c876e5de87ebd7fc0979d82edb93e2d8d768bf71fac4\n",
            "  Building wheel for libwapiti (setup.py) ... \u001b[?25l\u001b[?25hdone\n",
            "  Created wheel for libwapiti: filename=libwapiti-0.2.1-cp37-cp37m-linux_x86_64.whl size=154854 sha256=4430fcfc6a6afb2750af1e9c90002986ffc7855a1bd7c92d5f2d9891b7828ece\n",
            "  Stored in directory: /root/.cache/pip/wheels/ab/b2/5b/0fe4b8f5c0e65341e8ea7bb3f4a6ebabfe8b1ac31322392dbf\n",
            "Successfully built nltk libwapiti\n",
            "Installing collected packages: nltk, libwapiti, hazm\n",
            "  Attempting uninstall: nltk\n",
            "    Found existing installation: nltk 3.7\n",
            "    Uninstalling nltk-3.7:\n",
            "      Successfully uninstalled nltk-3.7\n",
            "Successfully installed hazm-0.7.0 libwapiti-0.2.1 nltk-3.3\n"
          ]
        },
        {
          "output_type": "display_data",
          "data": {
            "application/vnd.colab-display-data+json": {
              "pip_warning": {
                "packages": [
                  "nltk"
                ]
              }
            }
          },
          "metadata": {}
        }
      ]
    },
    {
      "cell_type": "markdown",
      "source": [
        "**Read data**"
      ],
      "metadata": {
        "id": "oLKWM60tbCK9"
      }
    },
    {
      "cell_type": "code",
      "source": [
        "import pandas as pd\n",
        "df = pd.read_excel(\"/content/sample_data/dataset for clustering.xlsx\")\n",
        "df"
      ],
      "metadata": {
        "colab": {
          "base_uri": "https://localhost:8080/",
          "height": 424
        },
        "id": "cVqFDEq8ba_n",
        "outputId": "c735a591-aada-4cc8-f9da-f32f1a3bebd5"
      },
      "execution_count": 91,
      "outputs": [
        {
          "output_type": "execute_result",
          "data": {
            "text/plain": [
              "                                               Comment  Label\n",
              "0        شهید بهشتی رو انتخاب کردم چون از هر نظر عالیه    3.0\n",
              "1    بعد از تحقیق بسیار، دقیقا بر اساس اساتید بهشتی...    3.0\n",
              "2              متاسفانه خیییلی زیاده بی نظمی و اين بده    1.0\n",
              "3       واقعا من یک نفر توو دانشگاه بهشتی رضایتی ندارم    1.0\n",
              "4                        من از نظم خوابگاه راضي نيستم.    1.0\n",
              "..                                                 ...    ...\n",
              "226  کالا کیفیت غذای سلف اکثر دانشگاه ها راضی کننده...    1.0\n",
              "227  قوانین موجود در دانشکده کامپیوتر برای دانشجویا...    1.0\n",
              "228     از غذا، قوانین و رفتار بعضی مسئولین راضی نیستم    1.0\n",
              "229                      رفتار نامناسب از اساتید ندیدم    3.0\n",
              "230    قوانین ورود و خروج به دانشگاه از نظر زمانی خوبه    NaN\n",
              "\n",
              "[231 rows x 2 columns]"
            ],
            "text/html": [
              "\n",
              "  <div id=\"df-f22182de-1ee6-498e-96c2-9295750fdf78\">\n",
              "    <div class=\"colab-df-container\">\n",
              "      <div>\n",
              "<style scoped>\n",
              "    .dataframe tbody tr th:only-of-type {\n",
              "        vertical-align: middle;\n",
              "    }\n",
              "\n",
              "    .dataframe tbody tr th {\n",
              "        vertical-align: top;\n",
              "    }\n",
              "\n",
              "    .dataframe thead th {\n",
              "        text-align: right;\n",
              "    }\n",
              "</style>\n",
              "<table border=\"1\" class=\"dataframe\">\n",
              "  <thead>\n",
              "    <tr style=\"text-align: right;\">\n",
              "      <th></th>\n",
              "      <th>Comment</th>\n",
              "      <th>Label</th>\n",
              "    </tr>\n",
              "  </thead>\n",
              "  <tbody>\n",
              "    <tr>\n",
              "      <th>0</th>\n",
              "      <td>شهید بهشتی رو انتخاب کردم چون از هر نظر عالیه</td>\n",
              "      <td>3.0</td>\n",
              "    </tr>\n",
              "    <tr>\n",
              "      <th>1</th>\n",
              "      <td>بعد از تحقیق بسیار، دقیقا بر اساس اساتید بهشتی...</td>\n",
              "      <td>3.0</td>\n",
              "    </tr>\n",
              "    <tr>\n",
              "      <th>2</th>\n",
              "      <td>متاسفانه خیییلی زیاده بی نظمی و اين بده</td>\n",
              "      <td>1.0</td>\n",
              "    </tr>\n",
              "    <tr>\n",
              "      <th>3</th>\n",
              "      <td>واقعا من یک نفر توو دانشگاه بهشتی رضایتی ندارم</td>\n",
              "      <td>1.0</td>\n",
              "    </tr>\n",
              "    <tr>\n",
              "      <th>4</th>\n",
              "      <td>من از نظم خوابگاه راضي نيستم.</td>\n",
              "      <td>1.0</td>\n",
              "    </tr>\n",
              "    <tr>\n",
              "      <th>...</th>\n",
              "      <td>...</td>\n",
              "      <td>...</td>\n",
              "    </tr>\n",
              "    <tr>\n",
              "      <th>226</th>\n",
              "      <td>کالا کیفیت غذای سلف اکثر دانشگاه ها راضی کننده...</td>\n",
              "      <td>1.0</td>\n",
              "    </tr>\n",
              "    <tr>\n",
              "      <th>227</th>\n",
              "      <td>قوانین موجود در دانشکده کامپیوتر برای دانشجویا...</td>\n",
              "      <td>1.0</td>\n",
              "    </tr>\n",
              "    <tr>\n",
              "      <th>228</th>\n",
              "      <td>از غذا، قوانین و رفتار بعضی مسئولین راضی نیستم</td>\n",
              "      <td>1.0</td>\n",
              "    </tr>\n",
              "    <tr>\n",
              "      <th>229</th>\n",
              "      <td>رفتار نامناسب از اساتید ندیدم</td>\n",
              "      <td>3.0</td>\n",
              "    </tr>\n",
              "    <tr>\n",
              "      <th>230</th>\n",
              "      <td>قوانین ورود و خروج به دانشگاه از نظر زمانی خوبه</td>\n",
              "      <td>NaN</td>\n",
              "    </tr>\n",
              "  </tbody>\n",
              "</table>\n",
              "<p>231 rows × 2 columns</p>\n",
              "</div>\n",
              "      <button class=\"colab-df-convert\" onclick=\"convertToInteractive('df-f22182de-1ee6-498e-96c2-9295750fdf78')\"\n",
              "              title=\"Convert this dataframe to an interactive table.\"\n",
              "              style=\"display:none;\">\n",
              "        \n",
              "  <svg xmlns=\"http://www.w3.org/2000/svg\" height=\"24px\"viewBox=\"0 0 24 24\"\n",
              "       width=\"24px\">\n",
              "    <path d=\"M0 0h24v24H0V0z\" fill=\"none\"/>\n",
              "    <path d=\"M18.56 5.44l.94 2.06.94-2.06 2.06-.94-2.06-.94-.94-2.06-.94 2.06-2.06.94zm-11 1L8.5 8.5l.94-2.06 2.06-.94-2.06-.94L8.5 2.5l-.94 2.06-2.06.94zm10 10l.94 2.06.94-2.06 2.06-.94-2.06-.94-.94-2.06-.94 2.06-2.06.94z\"/><path d=\"M17.41 7.96l-1.37-1.37c-.4-.4-.92-.59-1.43-.59-.52 0-1.04.2-1.43.59L10.3 9.45l-7.72 7.72c-.78.78-.78 2.05 0 2.83L4 21.41c.39.39.9.59 1.41.59.51 0 1.02-.2 1.41-.59l7.78-7.78 2.81-2.81c.8-.78.8-2.07 0-2.86zM5.41 20L4 18.59l7.72-7.72 1.47 1.35L5.41 20z\"/>\n",
              "  </svg>\n",
              "      </button>\n",
              "      \n",
              "  <style>\n",
              "    .colab-df-container {\n",
              "      display:flex;\n",
              "      flex-wrap:wrap;\n",
              "      gap: 12px;\n",
              "    }\n",
              "\n",
              "    .colab-df-convert {\n",
              "      background-color: #E8F0FE;\n",
              "      border: none;\n",
              "      border-radius: 50%;\n",
              "      cursor: pointer;\n",
              "      display: none;\n",
              "      fill: #1967D2;\n",
              "      height: 32px;\n",
              "      padding: 0 0 0 0;\n",
              "      width: 32px;\n",
              "    }\n",
              "\n",
              "    .colab-df-convert:hover {\n",
              "      background-color: #E2EBFA;\n",
              "      box-shadow: 0px 1px 2px rgba(60, 64, 67, 0.3), 0px 1px 3px 1px rgba(60, 64, 67, 0.15);\n",
              "      fill: #174EA6;\n",
              "    }\n",
              "\n",
              "    [theme=dark] .colab-df-convert {\n",
              "      background-color: #3B4455;\n",
              "      fill: #D2E3FC;\n",
              "    }\n",
              "\n",
              "    [theme=dark] .colab-df-convert:hover {\n",
              "      background-color: #434B5C;\n",
              "      box-shadow: 0px 1px 3px 1px rgba(0, 0, 0, 0.15);\n",
              "      filter: drop-shadow(0px 1px 2px rgba(0, 0, 0, 0.3));\n",
              "      fill: #FFFFFF;\n",
              "    }\n",
              "  </style>\n",
              "\n",
              "      <script>\n",
              "        const buttonEl =\n",
              "          document.querySelector('#df-f22182de-1ee6-498e-96c2-9295750fdf78 button.colab-df-convert');\n",
              "        buttonEl.style.display =\n",
              "          google.colab.kernel.accessAllowed ? 'block' : 'none';\n",
              "\n",
              "        async function convertToInteractive(key) {\n",
              "          const element = document.querySelector('#df-f22182de-1ee6-498e-96c2-9295750fdf78');\n",
              "          const dataTable =\n",
              "            await google.colab.kernel.invokeFunction('convertToInteractive',\n",
              "                                                     [key], {});\n",
              "          if (!dataTable) return;\n",
              "\n",
              "          const docLinkHtml = 'Like what you see? Visit the ' +\n",
              "            '<a target=\"_blank\" href=https://colab.research.google.com/notebooks/data_table.ipynb>data table notebook</a>'\n",
              "            + ' to learn more about interactive tables.';\n",
              "          element.innerHTML = '';\n",
              "          dataTable['output_type'] = 'display_data';\n",
              "          await google.colab.output.renderOutput(dataTable, element);\n",
              "          const docLink = document.createElement('div');\n",
              "          docLink.innerHTML = docLinkHtml;\n",
              "          element.appendChild(docLink);\n",
              "        }\n",
              "      </script>\n",
              "    </div>\n",
              "  </div>\n",
              "  "
            ]
          },
          "metadata": {},
          "execution_count": 91
        }
      ]
    },
    {
      "cell_type": "code",
      "source": [
        "# df = df.dropna(subset = [\"Comment\"], inplace=True)\n",
        "sns.countplot(df.Label)\n",
        "plt.xlabel('Label')\n",
        "plt.title('Number of label ')\n",
        "\n",
        "df.head()"
      ],
      "metadata": {
        "colab": {
          "base_uri": "https://localhost:8080/",
          "height": 539
        },
        "id": "5sNs9zDTcGVX",
        "outputId": "2450c362-4510-47f2-c487-b4475dd5e79f"
      },
      "execution_count": 92,
      "outputs": [
        {
          "output_type": "stream",
          "name": "stderr",
          "text": [
            "/usr/local/lib/python3.7/dist-packages/seaborn/_decorators.py:43: FutureWarning: Pass the following variable as a keyword arg: x. From version 0.12, the only valid positional argument will be `data`, and passing other arguments without an explicit keyword will result in an error or misinterpretation.\n",
            "  FutureWarning\n"
          ]
        },
        {
          "output_type": "execute_result",
          "data": {
            "text/plain": [
              "                                             Comment  Label\n",
              "0      شهید بهشتی رو انتخاب کردم چون از هر نظر عالیه    3.0\n",
              "1  بعد از تحقیق بسیار، دقیقا بر اساس اساتید بهشتی...    3.0\n",
              "2            متاسفانه خیییلی زیاده بی نظمی و اين بده    1.0\n",
              "3     واقعا من یک نفر توو دانشگاه بهشتی رضایتی ندارم    1.0\n",
              "4                      من از نظم خوابگاه راضي نيستم.    1.0"
            ],
            "text/html": [
              "\n",
              "  <div id=\"df-0bd4d717-3768-40c6-9cdc-2e2a5b8dd4f2\">\n",
              "    <div class=\"colab-df-container\">\n",
              "      <div>\n",
              "<style scoped>\n",
              "    .dataframe tbody tr th:only-of-type {\n",
              "        vertical-align: middle;\n",
              "    }\n",
              "\n",
              "    .dataframe tbody tr th {\n",
              "        vertical-align: top;\n",
              "    }\n",
              "\n",
              "    .dataframe thead th {\n",
              "        text-align: right;\n",
              "    }\n",
              "</style>\n",
              "<table border=\"1\" class=\"dataframe\">\n",
              "  <thead>\n",
              "    <tr style=\"text-align: right;\">\n",
              "      <th></th>\n",
              "      <th>Comment</th>\n",
              "      <th>Label</th>\n",
              "    </tr>\n",
              "  </thead>\n",
              "  <tbody>\n",
              "    <tr>\n",
              "      <th>0</th>\n",
              "      <td>شهید بهشتی رو انتخاب کردم چون از هر نظر عالیه</td>\n",
              "      <td>3.0</td>\n",
              "    </tr>\n",
              "    <tr>\n",
              "      <th>1</th>\n",
              "      <td>بعد از تحقیق بسیار، دقیقا بر اساس اساتید بهشتی...</td>\n",
              "      <td>3.0</td>\n",
              "    </tr>\n",
              "    <tr>\n",
              "      <th>2</th>\n",
              "      <td>متاسفانه خیییلی زیاده بی نظمی و اين بده</td>\n",
              "      <td>1.0</td>\n",
              "    </tr>\n",
              "    <tr>\n",
              "      <th>3</th>\n",
              "      <td>واقعا من یک نفر توو دانشگاه بهشتی رضایتی ندارم</td>\n",
              "      <td>1.0</td>\n",
              "    </tr>\n",
              "    <tr>\n",
              "      <th>4</th>\n",
              "      <td>من از نظم خوابگاه راضي نيستم.</td>\n",
              "      <td>1.0</td>\n",
              "    </tr>\n",
              "  </tbody>\n",
              "</table>\n",
              "</div>\n",
              "      <button class=\"colab-df-convert\" onclick=\"convertToInteractive('df-0bd4d717-3768-40c6-9cdc-2e2a5b8dd4f2')\"\n",
              "              title=\"Convert this dataframe to an interactive table.\"\n",
              "              style=\"display:none;\">\n",
              "        \n",
              "  <svg xmlns=\"http://www.w3.org/2000/svg\" height=\"24px\"viewBox=\"0 0 24 24\"\n",
              "       width=\"24px\">\n",
              "    <path d=\"M0 0h24v24H0V0z\" fill=\"none\"/>\n",
              "    <path d=\"M18.56 5.44l.94 2.06.94-2.06 2.06-.94-2.06-.94-.94-2.06-.94 2.06-2.06.94zm-11 1L8.5 8.5l.94-2.06 2.06-.94-2.06-.94L8.5 2.5l-.94 2.06-2.06.94zm10 10l.94 2.06.94-2.06 2.06-.94-2.06-.94-.94-2.06-.94 2.06-2.06.94z\"/><path d=\"M17.41 7.96l-1.37-1.37c-.4-.4-.92-.59-1.43-.59-.52 0-1.04.2-1.43.59L10.3 9.45l-7.72 7.72c-.78.78-.78 2.05 0 2.83L4 21.41c.39.39.9.59 1.41.59.51 0 1.02-.2 1.41-.59l7.78-7.78 2.81-2.81c.8-.78.8-2.07 0-2.86zM5.41 20L4 18.59l7.72-7.72 1.47 1.35L5.41 20z\"/>\n",
              "  </svg>\n",
              "      </button>\n",
              "      \n",
              "  <style>\n",
              "    .colab-df-container {\n",
              "      display:flex;\n",
              "      flex-wrap:wrap;\n",
              "      gap: 12px;\n",
              "    }\n",
              "\n",
              "    .colab-df-convert {\n",
              "      background-color: #E8F0FE;\n",
              "      border: none;\n",
              "      border-radius: 50%;\n",
              "      cursor: pointer;\n",
              "      display: none;\n",
              "      fill: #1967D2;\n",
              "      height: 32px;\n",
              "      padding: 0 0 0 0;\n",
              "      width: 32px;\n",
              "    }\n",
              "\n",
              "    .colab-df-convert:hover {\n",
              "      background-color: #E2EBFA;\n",
              "      box-shadow: 0px 1px 2px rgba(60, 64, 67, 0.3), 0px 1px 3px 1px rgba(60, 64, 67, 0.15);\n",
              "      fill: #174EA6;\n",
              "    }\n",
              "\n",
              "    [theme=dark] .colab-df-convert {\n",
              "      background-color: #3B4455;\n",
              "      fill: #D2E3FC;\n",
              "    }\n",
              "\n",
              "    [theme=dark] .colab-df-convert:hover {\n",
              "      background-color: #434B5C;\n",
              "      box-shadow: 0px 1px 3px 1px rgba(0, 0, 0, 0.15);\n",
              "      filter: drop-shadow(0px 1px 2px rgba(0, 0, 0, 0.3));\n",
              "      fill: #FFFFFF;\n",
              "    }\n",
              "  </style>\n",
              "\n",
              "      <script>\n",
              "        const buttonEl =\n",
              "          document.querySelector('#df-0bd4d717-3768-40c6-9cdc-2e2a5b8dd4f2 button.colab-df-convert');\n",
              "        buttonEl.style.display =\n",
              "          google.colab.kernel.accessAllowed ? 'block' : 'none';\n",
              "\n",
              "        async function convertToInteractive(key) {\n",
              "          const element = document.querySelector('#df-0bd4d717-3768-40c6-9cdc-2e2a5b8dd4f2');\n",
              "          const dataTable =\n",
              "            await google.colab.kernel.invokeFunction('convertToInteractive',\n",
              "                                                     [key], {});\n",
              "          if (!dataTable) return;\n",
              "\n",
              "          const docLinkHtml = 'Like what you see? Visit the ' +\n",
              "            '<a target=\"_blank\" href=https://colab.research.google.com/notebooks/data_table.ipynb>data table notebook</a>'\n",
              "            + ' to learn more about interactive tables.';\n",
              "          element.innerHTML = '';\n",
              "          dataTable['output_type'] = 'display_data';\n",
              "          await google.colab.output.renderOutput(dataTable, element);\n",
              "          const docLink = document.createElement('div');\n",
              "          docLink.innerHTML = docLinkHtml;\n",
              "          element.appendChild(docLink);\n",
              "        }\n",
              "      </script>\n",
              "    </div>\n",
              "  </div>\n",
              "  "
            ]
          },
          "metadata": {},
          "execution_count": 92
        },
        {
          "output_type": "display_data",
          "data": {
            "text/plain": [
              "<Figure size 432x288 with 1 Axes>"
            ],
            "image/png": "[encoded data removed]"
          },
          "metadata": {
            "needs_background": "light"
          }
        }
      ]
    },
    {
      "cell_type": "markdown",
      "source": [
        "# NORMALIZATION"
      ],
      "metadata": {
        "id": "GwwGdpZ7culm"
      }
    },
    {
      "cell_type": "code",
      "source": [
        "import nltk\n",
        "nltk.download('omw-1.4')\n",
        "import re\n",
        "from nltk.corpus import wordnet\n",
        "#حذف کاراکتر های تکراری\n",
        "class RepeatReplacer(object):\n",
        "    def __init__(self):\n",
        "        self.repeat_regexp=re.compile(r'(\\w*)(\\w)\\2(\\w*)')\n",
        "        self.repl=r'\\1\\2\\3'\n",
        "    def replace(self,word):\n",
        "        if(wordnet.synsets(word)):\n",
        "            return word\n",
        "        repl_word=self.repeat_regexp.sub(self.repl,word)\n",
        "        if(repl_word!=word):\n",
        "            return self.replace(repl_word)\n",
        "        else:\n",
        "            return repl_word\n",
        "\n",
        "\n",
        "replacer=RepeatReplacer()\n",
        "\n",
        "\n",
        "\n",
        "def clean(text):\n",
        "  #حذف الفبای انگلیسی .....حذف ارقام.......حذف کاراکتر های بی استفاده\n",
        "  unwanted_digit=['0','1','2','3','4','5','6','7','8','9','۰',\n",
        "                  '۱','۲','٣','۴','۵','۶','۷','۸','۹']#۰۱۲۳۴۵۶۷۸۹\n",
        "  for digit in unwanted_digit:\n",
        "    text=text.replace(digit,\"\")\n",
        "\n",
        "  unwanted_alpha=['a','b','c','d','e','f','g','h','i','j',\n",
        "                  'k','l','m','n','o','p','q','r','s','t','u','v','w','x','y','z']\n",
        "  for alpha in unwanted_alpha:\n",
        "    text=text.replace(alpha,\"\")\n",
        "  \n",
        "  unwanted_punc=[\"؟\",'،','\"',\"'\",'=','@','&','%','.',',',':','\\\\','$','^',\n",
        "                 \n",
        "                 '<','>','!','?','{','}',';','\\n','\\t',\n",
        "\n",
        "                 '(',')','[',']','/','*','+','#','\\u200c',\n",
        "\n",
        "                 '\\ufeff','-','_','|',\"u200c\",\"\\u200c\"]\n",
        "  for punc in unwanted_punc:\n",
        "    text=text.replace(punc,\"\")\n",
        "  return text\n",
        "\n",
        "\n",
        "#نرمال سازی جملات با استفاده از هضم اصلاح نیم فاصله ها و تبدیل کلمات جمع به حالت مفرد\n",
        "def normalizeWhazm(text):\n",
        "  normalizer = Normalizer()\n",
        "  stemmer = Stemmer()\n",
        "  lema=Lemmatizer()\n",
        "\n",
        "  text=normalizer.normalize(text)\n",
        "  text=lema.lemmatize(text)\n",
        "  text=stemmer.stem(text)\n",
        "  return text\n",
        "\n",
        "\n",
        "\n",
        "def remove_emoji(text):\n",
        "    emoji_pattern = re.compile(\"[\"\n",
        "                           u\"\\U0001F600-\\U0001F64F\"  # emoticons\n",
        "                           u\"\\U0001F300-\\U0001F5FF\"  # symbols & pictographs\n",
        "                           u\"\\U0001F680-\\U0001F6FF\"  # transport & map symbols\n",
        "                           u\"\\U0001F1E0-\\U0001F1FF\"  # flags (iOS)\n",
        "                           u\"\\U00002702-\\U000027B0\"\n",
        "                           u\"\\U000024C2-\\U0001F251\"\n",
        "                           \"]+\", flags=re.UNICODE)\n",
        "    return emoji_pattern.sub(r'', text)\n",
        "\n",
        "\n",
        "\n",
        "for x in df.index:\n",
        "    #print(x)\n",
        "    text = df.loc[x, \"Comment\"]\n",
        "    #print(text)\n",
        "    df.loc[x, \"Comment\"] = clean(text)\n",
        "    df.loc[x, \"Comment\"] = replacer.replace(df.loc[x, \"Comment\"])\n",
        "    df.loc[x, \"Comment\"] = normalizeWhazm(df.loc[x, \"Comment\"])\n",
        "    df.loc[x, \"Comment\"] =remove_emoji(df.loc[x, \"Comment\"])\n",
        "\n",
        "    print(df.loc[x, \"Comment\"])\n",
        "\n",
        "\n",
        "df.head()"
      ],
      "metadata": {
        "colab": {
          "base_uri": "https://localhost:8080/",
          "height": 1000
        },
        "id": "1RW5DK_cck4v",
        "outputId": "6f8ecda5-0f6d-42ef-99ad-f50c5207787c"
      },
      "execution_count": 93,
      "outputs": [
        {
          "output_type": "stream",
          "name": "stderr",
          "text": [
            "[nltk_data] Downloading package omw-1.4 to /root/nltk_data...\n",
            "[nltk_data]   Package omw-1.4 is already up-to-date!\n"
          ]
        },
        {
          "output_type": "stream",
          "name": "stdout",
          "text": [
            "شهید بهشتی رو انتخاب کردم چون از هر نظر عالیه\n",
            "بعد از تحقیق بسیار دقیقا بر اساس اساتید بهشتی رو اول انتخاب کردم چون اساتید بهتر دارد\n",
            "متاسفانه خیلی زیاده بی نظمی و این بده\n",
            "واقعا من یک نفر تو دانشگاه بهشتی رضایتی ندار\n",
            "من از نظم خوابگاه راضی نیس\n",
            "مسئولان سلب مسئولیت می‌کند و نارضایتی هس\n",
            "به حقوق دانشجو احترام نمی‌گذارند\n",
            "بهشتی فقط جاش خوبه بقیش بده\n",
            " من از نظر آموزشی و اساتیدی که داشتم به تمام دانشگاهای تهران ترجیحش مید\n",
            "آموزش برق ک خیلی با ادب و گل و عالی هستن\n",
            "از نظر اساتید حداقل تو رشته خودم جز دو سه نفرشون قاطع میتونم فقط بگم در جایگاه استادی نیستن و راضی نیستم از ان\n",
            "عرض کردم از لحاظ آموزشی استادام بهتر هستند نسبت به تمام دانشگاه‌ها تو رشته\n",
            "ایراد زیاد داره این دانشگاه\n",
            "حقیقتا منم خیلی از شرایطم راضی ا\n",
            "از اساتید رضایت دار\n",
            "امکانات دانشگاه خیلی ضعیف و بد اس\n",
            "مسیر راه رفتن در دانشگاه سخت است و امکاناتی وجود ندارد\n",
            "از وضعیت دسترسی و گرفتن کتاب در دانشگاه راضی نیس\n",
            "من ناراضی هستم از دانشگاه\n",
            "اینجا مزخرف‌ترین دانگاه هس\n",
            "همه چی رو به دم تحمیل می‌کند مثل موضوع پایان نامه و این خیلی مزخرفه\n",
            "دیگه این جا را انتخاب نمی‌کن\n",
            "من فعلا راضی هستم و خوبه\n",
            "امکانات دانشگاه خیلی ضعیف و بد \n",
            "در رابطه با زمان رفت و امد راضی هس\n",
            "امکان ورود در زمان‌های تعطیل خوبه\n",
            "دانشگاه در منطقه خوش اب و هوای قرار دارد\n",
            "مسیر رفت امد سخته و شیب دار\n",
            "طریقه اطلاع رسانی نمرات پیشرفته و به روز اس\n",
            "تعداد مناسب رستوران و بوفه دارد\n",
            "ارتباط مناسب دانشگاه با صنعت وجود دارد\n",
            "ازمایشگاه‌های خوبی داره\n",
            "اساتید با صنعت و شرکت‌ها ارتباط دارند که خیلی خوبه\n",
            "اخلاق و برخورد مناسب کارکن\n",
            "تنوع زیاد در رابطه با وجود گرایش‌ها و رشته‌های مختلف در دانشگاه وجود دارد\n",
            "عدم وجود دچرخه در فضای دانشگاه\n",
            "کم تنوعی غذای سلف\n",
            "از سلف ناراضی ا\n",
            "سلف در تابستان بسته اس\n",
            "شیب زیاد دانشگاه و عدم وجود تسهیلات مناسب در این رابطه\n",
            "نحوه برگزاری کلاس سمینار نامناسب اس\n",
            "تعداد واحد‌های که باید تا قبل ترم چهار بگذرانیم به درستی انتخاب نشده اس\n",
            "انتخاب استادان حل تمرین نامناسب اس\n",
            "عملکرد استاد حل تمرین ما اصلا خوب نیس\n",
            "تنوع استادان کم اس\n",
            "تنوع درس‌ها کم اس\n",
            "سوالات بعضی امتحان‌ها طوری است ک مطالب اصلی رها میشود و بر روی مطالب جزی و حفظی تمرکز میشود\n",
            "نحوه ارزیابی برخی از اساتید کاملا غلط اس\n",
            "وجود فضای مناسب برا ی برقراری ارتباط دانشجوها باه\n",
            "عدم درک اساتید از شرایط دانشجو وجود دارد\n",
            "مخالفت بی اندازه اساتید با کارکردن دانشجویان که خیلی بی منطقی اس\n",
            "عدم آمادگی و بیتوجهی بعضی از اساتید به تدریس\n",
            "کیفیت پاین کلاسهای آموزش\n",
            "تنوع کم درس‌ها برخلاف بقیه دانشگاه\n",
            "عدم وجود محیط مناسب و لابی برای نشستن و کار کردن در دانشکده کامپیوتر \n",
            "استاد خوب و بد همه جا هست و بیشتر مواقع تعریف خوب و بد بیشتر به خود دانشجو و تلاش بستگی داره\n",
            " امکانات ازمایشگاهیش که عالیه \n",
            "اینجا فوق العادست \n",
            "میخوای از یه جا جای دیگه بری سه ساعت باید راه بری کل وقتبره و اصلا راضی کنده نیس\n",
            "یه سرویس داخل دانشگاه نداره\n",
            "از نظر بروکراسی اداری و رسیدگی به امور دانشجو واقعا خیلی کم لطفی میکن مسئولین دانشگاه\n",
            "از نظر امکانات رفاهی اصلا خوب نیس\n",
            "بعضی از استاد‌ها واقعاعملکرد بد و مسخره‌ای دارند\n",
            "عدم عدالت در نمره دادن بعضی اساتید به دانشجو‌ها وجود دارد\n",
            "نحوه ارزیابی بعضی از اساتید واقعا منطقی وعادلانه نیس\n",
            "برخی از اساتید بین دانشجو‌ها تبعیض میگذارند\n",
            "فضای سبز قشنگی دارد دانشگاه\n",
            "بعضی قوانین عجیب و بدی دارد\n",
            "بوفه غذای مناسبی ندارد\n",
            "متاسفانه ارتباط گرم و صمیمی بین دانشجو و اساتید وجود ندارد\n",
            "زمانبندی ارائه سمینار و پایان نامه‌ها غیر منطقی بود\n",
            "وجود اساتید با موضوعات کاری مختلف باعث می‌شود دانشجو راحت‌تر به موضوع تحقیق مورد علاقه خود بپردازد\n",
            "رفتار بعضی از اساتید دوستانه و از سر دلسوزی می‌باشد\n",
            "تعداد زیادی از دانشجوها رو با بی فکری آموزش محور میکن\n",
            "قوانین موجود برای اموزش محور کردن دانشجو‌ها اصلا عادلانه نیس\n",
            "وضعیت امکانات کلاس‌ها مثل پروژکتور‌ها خوب نیس\n",
            "استاد‌های راهنما دانشجو رو مجبور میکن بیان تو حوزه‌ی دلخواه خودشون کار کند\n",
            "به نظرات دانشجوها توجهی نمی‌شود\n",
            "به نظرسنجی‌های دانشجو‌ها اهمیتی نمی‌دهند\n",
            "اینترنت دانشگاه ضعیف اس\n",
            "در دوران کرونا ارتباط با اساتید و دسترسی به اساتید بسیار سخت بود \n",
            "بارم بندی غلط در اکثر دروس \n",
            "نبودن نقشهی مناسب از محل ساختمانها و دانشکد\n",
            "وجود امکانات ورزشی مناسب در دانشگاه\n",
            "وجود اساتید جوان و آشنا به تکنولوژیهای روز\n",
            "توجه فراوان دانشگاه به مسائل فرهنگی و ورزشی خوب اس\n",
            "حراست که برای دانشجویان احترام قایل اس\n",
            "رفتار کارکنان دوستانه اس\n",
            "نبود و کمبود وسایل نقلیه برای جابجای دانشجویان در داخل دانشگاه باعث ایجاد سختی در رفت امد دانشجویان می‌شود\n",
            "ارتیاط غیرموثر و غیر صمیمی بین دانشجویان و اساتید خوب نیس\n",
            "بعضی از قوانین اموزشی واقعا غیر منطقی و ناعادلانه اس\n",
            "عدم ایجاد بستر مناسب برای شنیدن نظرات و انتقادات دانشجویان \n",
            "دانشگاه بزرگی اس\n",
            "بعضی اساتید واقعا دلسوز و باسواد و منطقی هستند\n",
            "فضای مناسب برای ایجاد رابطه‌های دوستی دارد\n",
            "از لحاظ تنوع دانشجویان مناسب اس\n",
            "دانشجو‌های پر تلاش ودرسخوان دارد\n",
            "عدم اطلاع رسانی درست قوانین \n",
            "ارائه نامناسب درس‌های تر\n",
            "اندازه کلاس‌ها مناسب اس\n",
            "خدا لعنتشون کنه اینقدر اذیت میکن\n",
            "اموزش حضوری سخته مجازی بهتره\n",
            "خیلی مضخرفه\n",
            "خیلی اذیت می‌کند\n",
            "وضعیت خوابگاه خیلی بد اس\n",
            "خیلی بد بود هفته‌ای پنج روز کلاس حضوری با ساعت‌های پراکنده \n",
            "از آموزش مجازی در خانه خسته شده‌ام و افسردگی گرفتم \n",
            "در امتحانات حضوری امتحانا سخت بود \n",
            "افتضاح افتضاح\n",
            "آموزش حضوری عالی بود و یکی از بهترین تجربه‌های من بود\n",
            "امتحانات حضوری سخت بود پدرمون درامده سر امتح\n",
            "آموزش حضوری خیلی خوب بود\n",
            "غذای بد به دانشجو‌ها میدن فقط دنبال سختگیری بی جا هستند\n",
            "تبعیض بین دانشجوها اس\n",
            " آدم تاسف میخوره که بعضیا استادا این ملکت اینطورین\n",
            "بله اساتید بین دانشجوها تبعیض قاعل میشوند و این مسعله به ضر ماست و منصفانه نیس\n",
            "غذای دانشگاه آشغاله \n",
            "مدرک الکی بدردنخور چون اخرش همه بیکار می‌ش\n",
            "سیستم اموزشی غلط و بی اساس دار\n",
            "وضعیت خابگاه‌ها بد است \n",
            "وضعیت کیفیت غذا بده\n",
            " آموزش بد و نامناسب اس\n",
            "این چه وضعیه غذای بسته بندی حذف شده \n",
            "مسئول غذا ماسک هم نداره\n",
            "از حق نگذریم که یک دانشگاه لوکس و بزرگه\n",
            "دانشگاه شهید بهشتی فقط فضای طبیعت و آب و هواش خوبه \n",
            "مدیریت خیلی خوبی دارد\n",
            "خیلی وضعیت افتضاحی هس\n",
            "چرا انقدر باید وقت دانشجو‌ها در صف غذا تلف شود\n",
            "مسئولین دانشگاه به حرف دانشجو‌ها گوش نمی‌دهند\n",
            "اخیرا غذا کمتر از تعداد داتشجو هاست و ماست یخ زده به بچه‌ها داده میشه\n",
            "تعداد سگ‌های خوابگاه خیلی زیاده و این موضوع اذیت کنده اس\n",
            "وقتی نظر دانشجو برای کسی مهم نیست چه فایده داره\n",
            "در آموزش حضوری مشکل دوری مسیر و صبح زود و بیدار شدن و دیربرگشتن به خونهاینا اذیت کنده بود\n",
            "یه ذره خجالت بکشن بعضی استادا شرم کنید خدا\n",
            "قوانین اموزش محور شدن خیلی مضخرفه\n",
            "شاهد افت کیفی عذاها در کنار کم حجم شدن آن هست\n",
            "افتضاح هیچ وقت روز اولی که اومدم خوابگاه بهشتی رو یادم نمیره تمام تصوراتم از از این دانشگاه خراب شد\n",
            "مسخره‌ترین روش توزیع غذارو بهشتی داره بعد از سال درس خوندن توی دانشگاه‌های مختلف تاحالا اینهمه بی نظمی و بی برنامگی و بی کیفیتی رو ندید\n",
            "فضای خیلی خوبی داره و محوطه دانشگاه خیلی زیبا هس\n",
            "سرعت اینتر نت دانشگاه خیلی کم است و این ازار دهنده اس\n",
            "رفت و آمد به دانشگاه خیلی سخته مترو از دانشگاه دوره\n",
            "در کل سطح علمی اساتید دانشگاه خوبه\n",
            "می‌شود برای انجام پروژه‌های صنعتی از اساتیدکمک گرفت و این خیلی خوبه\n",
            "حضور اساتید با فیلدها کاری متفاوت که کمک می‌کنه برای انتخاب موضوع دانشجو حق انتخاب داشته باشه\n",
            "محل تحصیل و اساتید دانشجویان پردیس و روزانه و شبانه یکی است و این تنوع خی خوبه\n",
            "در اعتراض به نمرات متاسفانه اساتید انعطاف پذیر نیستن\n",
            "به دلیل کرونا و مجازی بودن امتحان‌ها به شدت سخت بود و زمان امتحان هم خیلی کم بود \n",
            "فارغ التحصیل شدن در ارشد خیلی طولانی هس\n",
            "نظر دانشجو برای کسی مهم نیس\n",
            "فکری به حال اون غذاهای اشغال سلف‌ها نمیکند و واقعا افتضاحن\n",
            "فقط یاد گرفتن به پوش گیر بدن\n",
            "به فکر رفاه دانشجویان نیستند و اهمیت نمی‌دهند\n",
            "استادان بین دانشجو‌ها تبعیض قائل می‌شوند\n",
            "امکانات دانشگاه خوبه\n",
            "اساتیدبه دانشجو‌ها استرس وارد می‌کند\n",
            "وضعیت افتضاحه هم کیفیت غذا پاینه هم کم غذا میدن \n",
            "وضعیت خابگاه‌ها و غذا و آموزش بد و نامناسب است \n",
            "قیمت غذای سلف در تابستان خیلی زیاد و بی منطق اس\n",
            "دانشگاه بزرگی اس\n",
            "همایش‌های مفیدی در دانشگاه برگزار می‌شود\n",
            "اندازه کلاس‌ها مناسب اس\n",
            "بعضی از اساتید دلسوز و مهربان هستند\n",
            "قوانین بیخود و سختگیری‌های بی دلیل زیادی دارد\n",
            "نگهبانان دم در خوش برخورد هستند\n",
            "زیاد به پوش خاصی گیر نمیدهند و اذیت نمی‌کند\n",
            "رقابت سالم بین دانشجویان هس\n",
            "واقعا از مسئولین راضی نیس\n",
            "ازمایشگاه‌های خوبی و زیادی داره دانشگاه\n",
            "بعضی دروس ازمایشگاه ندارد\n",
            "دانشگاه در زمان مجازی خیلی کم امکانات دا\n",
            "بوفه زیاد داره و خیلی خوبه\n",
            "کیفیت اساتید دانشکده مدیریت بسیار بالاس\n",
            "بعضی اساتید دانشکده کامپیوتر ارزیابی منطقی ندارند\n",
            "دانشکده کامپیوتر قوانین سختگیرانه بی جا برای دانشجویان ارشد دارد\n",
            "خیلی بی فکر و بد دانشجویان ارشد را اموزش محور می‌کند\n",
            "کیفیت غذا راضی نیس\n",
            "قیمت غذا‌ها ی سلف مناسب اس\n",
            "در تابستان فقط یک وعده غذا می‌دهند و این بده\n",
            "ازمایشگاه‌ها امکانات خوبی دارند\n",
            "مسئول ازمایشگاه خوش برخورد اس\n",
            "از وجود راه‌های ارتباطی زیاد بین دانشجو و اساتید راضی هس\n",
            "بعضی اساتید امکانات کاراموزی دانشجو‌ها را بعد از فارغ التحصیلی فراهم می‌کند و به انشجو اهمیت می‌دهند\n",
            "بعضی اساتید واقعا به نظر دانشجویان اهمیت می‌دهند\n",
            "نظرسنجی‌ها درباره دانشگاه کم اس\n",
            "باید بیشتر به روح و روان دانشجو اهمیت دهند\n",
            "حجم استرس امتحانات و روش‌های ارزیابی اساتید زیاد و نامناسب اس\n",
            "بعضی اساتید واقعا روش‌های ارزیابی مناسبی دارند\n",
            "سرویس حمل نقل دانشگاه ضعیف اس\n",
            "به باغچه‌ها خوب می‌رسند\n",
            "اینکه پنجشنبه‌ها اجازه ورود به دانشگاه داریم خیلی خوبه\n",
            "رفت و امد به دانشگاه خیلی سخته\n",
            "مترو از دانشگاه دوره\n",
            "سطح اساتید دانشگاه خوبه\n",
            "میشه برای انجام پوژه‌های صنعتی از اساتید کمک گرفت \n",
            "اینکه محل تحصیل دانشجویان شبانه و روزانه و پردیس یک جا هست عالیه\n",
            "تفاوت بین دانشجویان پردیس و شبانه روزانه نیس\n",
            "وجود اساتیدی که تو حوزه خودشون دانش کافی و به روز دارند\n",
            "وجود وام‌های دانشجوی متنوع عالیه\n",
            "شیب دانشگاه خیلی زیاده\n",
            "مسیر دانشگاه تا خوابگاه شیب زیادی داره و پای ادم درد می‌گیره\n",
            "زمین دانشگاه همش شیب تند یا سراشیبی داره که اذیت کنده اس\n",
            "سختگیری زیاده \n",
            "اساتید که سخت گیرن هیچ قوانین دانشجو‌های ارشد هم خیلی سختگیرانه اس\n",
            "غذا سلف رو دوست ندارم همچنین قیمت غذا در تابستان زیاده\n",
            "از کیفیت غذا ی سلف راضی نیس\n",
            "برای مسیر‌های رفت امد داخل دانشگاه هیچ خدمات و سرویسی وجود ندارد\n",
            "مسیر دانشکده تا سلف خیلی زیاده و برگشتنش هم شیب زیادی داره و دوره\n",
            "از یه جای داخل دانشگاه بخوایم بریم یه جای دیگه مسیر‌ها دوره و شیب‌های دانشگاه زیاده \n",
            "مترو از دانشگاه دوره و امدن به دانشگاه سخته\n",
            "دوچرخه داخل دانشگاه نداره برای رفت و امد این مسیر‌های طولان\n",
            "روش‌های ارزیابی و نمره دهی بعضی اساتید منطقی نیس\n",
            "نمرات که اساتید به دانشجو‌ها میدهند راضی کنده نیس\n",
            "مسئولین بعضی از قسمت‌ها بسیار مسئولیت پذیر هستند\n",
            "من از مسئولین دانشکده خودم راضی هس\n",
            "تنوع غذای بوفه مرکزی خیلی خوبه\n",
            "پروژکتور‌های کلاس‌ها خیلی خوب عمل می‌کند\n",
            "سطح علمی تحقیقات و اساتید دانشگاه بالاس\n",
            "اینکه به دانشجو‌های ارشد و دکتری ازمایشگاه‌های تخصی اختصاص می‌دهند خیلی خوبه\n",
            "فضای دانشگاه خیلی سرسبزه\n",
            "فضای دانشگاه و بزرگ بودن و سرسبز بودنشو دوست دار\n",
            "فضای دانشگاه خوبه هواشم تمیزه\n",
            "تنوع غذا در بوفه زیاد و خوبه\n",
            "بعضی از غذا‌های بوفه مثل پیتزاش عالیه\n",
            "دسترسی به غذا تو دانشگاه هسونه چون تعداد بوفه‌ها زیاده کیفیتشون هم بدک نیس\n",
            "غذا‌های سلف کمیت و کیفیتشون مشکل داره\n",
            "کالا کیفیت غذای سلف اکثر دانشگاه‌ها راضی کنده نیس\n",
            "قوانین موجود در دانشکده کامپیوتر برای دانشجویات ارشد بی منطق و مسخره اس\n",
            "از غذا قوانین و رفتار بعضی مسئولین راضی نیس\n",
            "رفتار نامناسب از اساتید ندید\n",
            "قوانین ورود و خروج به دانشگاه از نظر زمانی خوبه\n"
          ]
        },
        {
          "output_type": "execute_result",
          "data": {
            "text/plain": [
              "                                             Comment  Label\n",
              "0      شهید بهشتی رو انتخاب کردم چون از هر نظر عالیه    3.0\n",
              "1  بعد از تحقیق بسیار دقیقا بر اساس اساتید بهشتی ...    3.0\n",
              "2              متاسفانه خیلی زیاده بی نظمی و این بده    1.0\n",
              "3       واقعا من یک نفر تو دانشگاه بهشتی رضایتی ندار    1.0\n",
              "4                         من از نظم خوابگاه راضی نیس    1.0"
            ],
            "text/html": [
              "\n",
              "  <div id=\"df-cd348818-5f7d-4b18-b9dd-8793a1cebd97\">\n",
              "    <div class=\"colab-df-container\">\n",
              "      <div>\n",
              "<style scoped>\n",
              "    .dataframe tbody tr th:only-of-type {\n",
              "        vertical-align: middle;\n",
              "    }\n",
              "\n",
              "    .dataframe tbody tr th {\n",
              "        vertical-align: top;\n",
              "    }\n",
              "\n",
              "    .dataframe thead th {\n",
              "        text-align: right;\n",
              "    }\n",
              "</style>\n",
              "<table border=\"1\" class=\"dataframe\">\n",
              "  <thead>\n",
              "    <tr style=\"text-align: right;\">\n",
              "      <th></th>\n",
              "      <th>Comment</th>\n",
              "      <th>Label</th>\n",
              "    </tr>\n",
              "  </thead>\n",
              "  <tbody>\n",
              "    <tr>\n",
              "      <th>0</th>\n",
              "      <td>شهید بهشتی رو انتخاب کردم چون از هر نظر عالیه</td>\n",
              "      <td>3.0</td>\n",
              "    </tr>\n",
              "    <tr>\n",
              "      <th>1</th>\n",
              "      <td>بعد از تحقیق بسیار دقیقا بر اساس اساتید بهشتی ...</td>\n",
              "      <td>3.0</td>\n",
              "    </tr>\n",
              "    <tr>\n",
              "      <th>2</th>\n",
              "      <td>متاسفانه خیلی زیاده بی نظمی و این بده</td>\n",
              "      <td>1.0</td>\n",
              "    </tr>\n",
              "    <tr>\n",
              "      <th>3</th>\n",
              "      <td>واقعا من یک نفر تو دانشگاه بهشتی رضایتی ندار</td>\n",
              "      <td>1.0</td>\n",
              "    </tr>\n",
              "    <tr>\n",
              "      <th>4</th>\n",
              "      <td>من از نظم خوابگاه راضی نیس</td>\n",
              "      <td>1.0</td>\n",
              "    </tr>\n",
              "  </tbody>\n",
              "</table>\n",
              "</div>\n",
              "      <button class=\"colab-df-convert\" onclick=\"convertToInteractive('df-cd348818-5f7d-4b18-b9dd-8793a1cebd97')\"\n",
              "              title=\"Convert this dataframe to an interactive table.\"\n",
              "              style=\"display:none;\">\n",
              "        \n",
              "  <svg xmlns=\"http://www.w3.org/2000/svg\" height=\"24px\"viewBox=\"0 0 24 24\"\n",
              "       width=\"24px\">\n",
              "    <path d=\"M0 0h24v24H0V0z\" fill=\"none\"/>\n",
              "    <path d=\"M18.56 5.44l.94 2.06.94-2.06 2.06-.94-2.06-.94-.94-2.06-.94 2.06-2.06.94zm-11 1L8.5 8.5l.94-2.06 2.06-.94-2.06-.94L8.5 2.5l-.94 2.06-2.06.94zm10 10l.94 2.06.94-2.06 2.06-.94-2.06-.94-.94-2.06-.94 2.06-2.06.94z\"/><path d=\"M17.41 7.96l-1.37-1.37c-.4-.4-.92-.59-1.43-.59-.52 0-1.04.2-1.43.59L10.3 9.45l-7.72 7.72c-.78.78-.78 2.05 0 2.83L4 21.41c.39.39.9.59 1.41.59.51 0 1.02-.2 1.41-.59l7.78-7.78 2.81-2.81c.8-.78.8-2.07 0-2.86zM5.41 20L4 18.59l7.72-7.72 1.47 1.35L5.41 20z\"/>\n",
              "  </svg>\n",
              "      </button>\n",
              "      \n",
              "  <style>\n",
              "    .colab-df-container {\n",
              "      display:flex;\n",
              "      flex-wrap:wrap;\n",
              "      gap: 12px;\n",
              "    }\n",
              "\n",
              "    .colab-df-convert {\n",
              "      background-color: #E8F0FE;\n",
              "      border: none;\n",
              "      border-radius: 50%;\n",
              "      cursor: pointer;\n",
              "      display: none;\n",
              "      fill: #1967D2;\n",
              "      height: 32px;\n",
              "      padding: 0 0 0 0;\n",
              "      width: 32px;\n",
              "    }\n",
              "\n",
              "    .colab-df-convert:hover {\n",
              "      background-color: #E2EBFA;\n",
              "      box-shadow: 0px 1px 2px rgba(60, 64, 67, 0.3), 0px 1px 3px 1px rgba(60, 64, 67, 0.15);\n",
              "      fill: #174EA6;\n",
              "    }\n",
              "\n",
              "    [theme=dark] .colab-df-convert {\n",
              "      background-color: #3B4455;\n",
              "      fill: #D2E3FC;\n",
              "    }\n",
              "\n",
              "    [theme=dark] .colab-df-convert:hover {\n",
              "      background-color: #434B5C;\n",
              "      box-shadow: 0px 1px 3px 1px rgba(0, 0, 0, 0.15);\n",
              "      filter: drop-shadow(0px 1px 2px rgba(0, 0, 0, 0.3));\n",
              "      fill: #FFFFFF;\n",
              "    }\n",
              "  </style>\n",
              "\n",
              "      <script>\n",
              "        const buttonEl =\n",
              "          document.querySelector('#df-cd348818-5f7d-4b18-b9dd-8793a1cebd97 button.colab-df-convert');\n",
              "        buttonEl.style.display =\n",
              "          google.colab.kernel.accessAllowed ? 'block' : 'none';\n",
              "\n",
              "        async function convertToInteractive(key) {\n",
              "          const element = document.querySelector('#df-cd348818-5f7d-4b18-b9dd-8793a1cebd97');\n",
              "          const dataTable =\n",
              "            await google.colab.kernel.invokeFunction('convertToInteractive',\n",
              "                                                     [key], {});\n",
              "          if (!dataTable) return;\n",
              "\n",
              "          const docLinkHtml = 'Like what you see? Visit the ' +\n",
              "            '<a target=\"_blank\" href=https://colab.research.google.com/notebooks/data_table.ipynb>data table notebook</a>'\n",
              "            + ' to learn more about interactive tables.';\n",
              "          element.innerHTML = '';\n",
              "          dataTable['output_type'] = 'display_data';\n",
              "          await google.colab.output.renderOutput(dataTable, element);\n",
              "          const docLink = document.createElement('div');\n",
              "          docLink.innerHTML = docLinkHtml;\n",
              "          element.appendChild(docLink);\n",
              "        }\n",
              "      </script>\n",
              "    </div>\n",
              "  </div>\n",
              "  "
            ]
          },
          "metadata": {},
          "execution_count": 93
        }
      ]
    },
    {
      "cell_type": "markdown",
      "source": [
        "# DELETE STOP WORDS"
      ],
      "metadata": {
        "id": "Id2mpMSQdRW2"
      }
    },
    {
      "cell_type": "code",
      "source": [
        "path2='/content/sample_data/my_stop_words (1).txt'\n",
        "data = pd.read_csv(path2, header = None)\n",
        "#در ابتدا هر سطر را توکنایز میکنیم بعد استاپ وورد ها را حذف میکنیم و درون دیتاست قرار میدهیم\n",
        "def TokDelStopW(text):\n",
        "  z=[]\n",
        "  text=word_tokenize(text)\n",
        "\n",
        "  for i in range(len(text)):\n",
        "    \n",
        "    for x in data.index:\n",
        "      \n",
        "      if data.loc[x,0] == text[i]:\n",
        "        z.append(i)\n",
        "        break\n",
        "        \n",
        "  temp=[]\n",
        "  for j in z:\n",
        "    temp.append(text[j])\n",
        "  text = [x for x in text if x not in temp]\n",
        "  return \" \".join(text)\n",
        "  \n",
        "for x in df.index: \n",
        "  df.loc[x, \"Comment\"] = TokDelStopW(df.loc[x, \"Comment\"])\n",
        "  print(df.loc[x, \"Comment\"])\n",
        "\n",
        "\n"
      ],
      "metadata": {
        "colab": {
          "base_uri": "https://localhost:8080/"
        },
        "id": "w1EXdlFpdPzO",
        "outputId": "6b076d2c-37b7-4d35-8990-6898de26251c"
      },
      "execution_count": 115,
      "outputs": [
        {
          "output_type": "stream",
          "name": "stdout",
          "text": [
            "شهید انتخاب کردم عالیه\n",
            "بعد تحقیق بسیار دقیقا اساس اساتید اول انتخاب کردم اساتید\n",
            "نظمی بده\n",
            "یک نفر رضایتی ندار\n",
            "نظم خوابگاه راضی\n",
            "مسئولان سلب مسئولیت می‌کند نارضایتی\n",
            "حقوق دانشجو احترام نمی‌گذارند\n",
            "جاش بقیش بده\n",
            "آموزشی اساتیدی تمام دانشگاهای تهران ترجیحش مید\n",
            "آموزش برق ک ادب عالی هستن\n",
            "اساتید حداقل رشته جز سه نفرشون قاطع میتونم بگم جایگاه استادی نیستن راضی نیستم\n",
            "عرض کردم لحاظ آموزشی استادام نسبت تمام دانشگاه‌ها رشته\n",
            "ایراد\n",
            "حقیقتا منم شرایطم راضی\n",
            "اساتید رضایت\n",
            "امکانات ضعیف\n",
            "مسیر راه رفتن سخت امکاناتی\n",
            "دسترسی کتاب راضی\n",
            "ناراضی\n",
            "مزخرف‌ترین دانگاه\n",
            "دم تحمیل می‌کند موضوع پایان نامه مزخرفه\n",
            "دیگه جا انتخاب نمی‌کن\n",
            "راضی\n",
            "امکانات ضعیف\n",
            "رابطه زمان راضی\n",
            "امکان ورود زمان‌های تعطیل\n",
            "منطقه خوش اب هوای قرار\n",
            "مسیر سخته شیب\n",
            "طریقه اطلاع رسانی نمرات پیشرفته روز\n",
            "تعداد مناسب رستوران بوفه\n",
            "ارتباط مناسب صنعت\n",
            "ازمایشگاه‌های خوبی\n",
            "اساتید صنعت شرکت‌ها ارتباط\n",
            "اخلاق برخورد مناسب کارکن\n",
            "تنوع رابطه گرایش‌ها رشته‌های مختلف\n",
            "دچرخه فضای\n",
            "تنوعی غذای سلف\n",
            "سلف ناراضی\n",
            "سلف تابستان بسته\n",
            "شیب تسهیلات مناسب رابطه\n",
            "نحوه برگزاری کلاس سمینار\n",
            "تعداد واحد‌های قبل ترم بگذرانیم درستی انتخاب\n",
            "انتخاب استادان حل تمرین\n",
            "عملکرد استاد حل تمرین\n",
            "تنوع استادان\n",
            "تنوع درس‌ها\n",
            "سوالات امتحان‌ها طوری ک مطالب اصلی رها میشود روی مطالب جزی حفظی تمرکز میشود\n",
            "نحوه ارزیابی برخی اساتید کاملا غلط\n",
            "فضای مناسب برا ی برقراری ارتباط باه\n",
            "درک اساتید شرایط دانشجو\n",
            "مخالفت اندازه اساتید کارکردن دانشجویان\n",
            "آمادگی بیتوجهی اساتید تدریس\n",
            "کیفیت پاین کلاسهای آموزش\n",
            "تنوع درس‌ها برخلاف بقیه\n",
            "محیط مناسب لابی نشستن کار کامپیوتر\n",
            "استاد جا بیشتر مواقع تعریف بیشتر دانشجو تلاش بستگی\n",
            "امکانات ازمایشگاهیش عالیه\n",
            "فوق العادست\n",
            "میخوای جا جای دیگه بری سه ساعت راه بری کل وقتبره راضی\n",
            "سرویس داخل نداره\n",
            "بروکراسی اداری رسیدگی امور دانشجو لطفی مسئولین\n",
            "امکانات رفاهی\n",
            "استاد‌ها واقعاعملکرد مسخره‌ای\n",
            "عدالت نمره دادن اساتید دانشجو‌ها\n",
            "نحوه ارزیابی اساتید وعادلانه\n",
            "برخی اساتید دانشجو‌ها تبعیض میگذارند\n",
            "فضای سبز قشنگی\n",
            "قوانین عجیب بدی\n",
            "بوفه غذای مناسبی\n",
            "ارتباط صمیمی دانشجو اساتید\n",
            "زمانبندی ارائه سمینار پایان نامه‌ها غیر\n",
            "اساتید موضوعات کاری مختلف باعث می‌شود دانشجو راحت‌تر موضوع تحقیق مورد علاقه بپردازد\n",
            "رفتار اساتید دوستانه سر دلسوزی می‌باشد\n",
            "تعداد زیادی فکری آموزش محور\n",
            "قوانین موجود اموزش محور دانشجو‌ها عادلانه\n",
            "امکانات کلاس‌ها پروژکتور‌ها\n",
            "استاد‌های راهنما دانشجو مجبور بیان حوزه‌ی دلخواه خودشون کار کند\n",
            "نظرات توجهی نمی‌شود\n",
            "نظرسنجی‌های دانشجو‌ها اهمیتی نمی‌دهند\n",
            "اینترنت ضعیف\n",
            "دوران کرونا ارتباط اساتید دسترسی اساتید بسیار سخت\n",
            "بارم بندی غلط اکثر دروس\n",
            "نبودن نقشهی مناسب محل ساختمانها دانشکد\n",
            "امکانات ورزشی مناسب\n",
            "اساتید جوان آشنا تکنولوژیهای روز\n",
            "توجه فراوان مسائل فرهنگی ورزشی\n",
            "حراست دانشجویان احترام قایل\n",
            "رفتار کارکنان دوستانه\n",
            "نبود کمبود وسایل نقلیه جابجای دانشجویان داخل باعث ایجاد سختی دانشجویان می‌شود\n",
            "ارتیاط غیرموثر غیر صمیمی دانشجویان اساتید\n",
            "قوانین اموزشی غیر ناعادلانه\n",
            "ایجاد بستر مناسب شنیدن نظرات انتقادات دانشجویان\n",
            "بزرگی\n",
            "اساتید دلسوز باسواد\n",
            "فضای مناسب ایجاد رابطه‌های دوستی\n",
            "لحاظ تنوع دانشجویان مناسب\n",
            "دانشجو‌های پر تلاش ودرسخوان\n",
            "اطلاع رسانی درست قوانین\n",
            "ارائه درس‌های\n",
            "اندازه کلاس‌ها مناسب\n",
            "خدا لعنتشون اینقدر اذیت\n",
            "اموزش سخته مجازی بهتره\n",
            "مضخرفه\n",
            "اذیت می‌کند\n",
            "خوابگاه\n",
            "هفته‌ای پنج روز کلاس ساعت‌های پراکنده\n",
            "آموزش مجازی خانه خسته شده‌ام افسردگی\n",
            "امتحانات امتحانا سخت\n",
            "افتضاح افتضاح\n",
            "آموزش عالی یکی بهترین تجربه‌های\n",
            "امتحانات سخت پدرمون درامده سر امتح\n",
            "آموزش\n",
            "غذای دانشجو‌ها دنبال سختگیری جا\n",
            "تبعیض\n",
            "آدم تاسف میخوره بعضیا استادا ملکت اینطورین\n",
            "بله اساتید تبعیض قاعل میشوند مسعله ضر منصفانه\n",
            "غذای آشغاله\n",
            "مدرک الکی بدردنخور اخرش بیکار می‌ش\n",
            "سیستم اموزشی غلط اساس\n",
            "خابگاه‌ها\n",
            "کیفیت غذا بده\n",
            "آموزش\n",
            "وضعیه غذای بسته بندی حذف\n",
            "مسئول غذا ماسک نداره\n",
            "حق نگذریم یک لوکس بزرگه\n",
            "شهید فضای طبیعت آب هواش\n",
            "مدیریت خوبی\n",
            "افتضاحی\n",
            "وقت دانشجو‌ها صف غذا تلف\n",
            "مسئولین حرف دانشجو‌ها گوش نمی‌دهند\n",
            "اخیرا غذا کمتر تعداد داتشجو هاست یخ زده بچه‌ها\n",
            "تعداد سگ‌های خوابگاه موضوع اذیت\n",
            "وقتی دانشجو کسی مهم نیست فایده\n",
            "آموزش مشکل دوری مسیر صبح بیدار دیربرگشتن خونهاینا اذیت\n",
            "ذره خجالت بکشن استادا شرم کنید خدا\n",
            "قوانین اموزش محور مضخرفه\n",
            "شاهد افت کیفی عذاها کنار حجم\n",
            "افتضاح هیچ وقت روز اولی اومدم خوابگاه نمیره تمام تصوراتم خراب\n",
            "مسخره‌ترین روش توزیع غذارو بعد سال درس خوندن توی دانشگاه‌های مختلف تاحالا اینهمه نظمی برنامگی کیفیتی ندید\n",
            "فضای خوبی محوطه زیبا\n",
            "سرعت اینتر نت ازار دهنده\n",
            "سخته مترو دوره\n",
            "کل سطح علمی اساتید\n",
            "می‌شود انجام پروژه‌های صنعتی اساتیدکمک\n",
            "حضور اساتید فیلدها کاری متفاوت کمک می‌کنه انتخاب موضوع دانشجو حق انتخاب باشه\n",
            "محل تحصیل اساتید دانشجویان پردیس شبانه یکی تنوع خی\n",
            "اعتراض نمرات اساتید انعطاف پذیر نیستن\n",
            "دلیل کرونا مجازی امتحان‌ها شدت سخت زمان امتحان\n",
            "فارغ التحصیل ارشد طولانی\n",
            "دانشجو کسی مهم\n",
            "فکری حال اون غذاهای اشغال سلف‌ها نمیکند افتضاحن\n",
            "یاد گیر بدن\n",
            "فکر رفاه دانشجویان نیستند اهمیت نمی‌دهند\n",
            "استادان دانشجو‌ها تبعیض قائل می‌شوند\n",
            "امکانات\n",
            "اساتیدبه دانشجو‌ها استرس وارد می‌کند\n",
            "افتضاحه کیفیت غذا پاینه غذا\n",
            "خابگاه‌ها غذا آموزش\n",
            "قیمت غذای سلف تابستان منطق\n",
            "بزرگی\n",
            "همایش‌های مفیدی برگزار می‌شود\n",
            "اندازه کلاس‌ها مناسب\n",
            "اساتید دلسوز مهربان\n",
            "قوانین بیخود سختگیری‌های دلیل زیادی\n",
            "نگهبانان دم خوش برخورد\n",
            "خاصی گیر نمیدهند اذیت نمی‌کند\n",
            "رقابت سالم دانشجویان\n",
            "مسئولین راضی\n",
            "ازمایشگاه‌های خوبی زیادی\n",
            "دروس ازمایشگاه\n",
            "زمان مجازی امکانات دا\n",
            "بوفه\n",
            "کیفیت اساتید مدیریت بسیار بالاس\n",
            "اساتید کامپیوتر ارزیابی\n",
            "کامپیوتر قوانین سختگیرانه جا دانشجویان ارشد\n",
            "فکر دانشجویان ارشد اموزش محور می‌کند\n",
            "کیفیت غذا راضی\n",
            "قیمت غذا‌ها ی سلف مناسب\n",
            "تابستان یک وعده غذا می‌دهند بده\n",
            "ازمایشگاه‌ها امکانات خوبی\n",
            "مسئول ازمایشگاه خوش برخورد\n",
            "راه‌های ارتباطی دانشجو اساتید راضی\n",
            "اساتید امکانات کاراموزی دانشجو‌ها بعد فارغ التحصیلی فراهم می‌کند انشجو اهمیت می‌دهند\n",
            "اساتید دانشجویان اهمیت می‌دهند\n",
            "نظرسنجی‌ها\n",
            "بیشتر روح روان دانشجو اهمیت\n",
            "حجم استرس امتحانات روش‌های ارزیابی اساتید\n",
            "اساتید روش‌های ارزیابی مناسبی\n",
            "سرویس حمل نقل ضعیف\n",
            "باغچه‌ها می‌رسند\n",
            "پنجشنبه‌ها اجازه ورود داریم\n",
            "سخته\n",
            "مترو دوره\n",
            "سطح اساتید\n",
            "انجام پوژه‌های صنعتی اساتید کمک\n",
            "محل تحصیل دانشجویان شبانه پردیس یک جا عالیه\n",
            "تفاوت دانشجویان پردیس شبانه\n",
            "اساتیدی حوزه خودشون دانش کافی روز\n",
            "وام‌های دانشجوی متنوع عالیه\n",
            "شیب\n",
            "مسیر خوابگاه شیب زیادی پای ادم درد می‌گیره\n",
            "زمین همش شیب تند یا سراشیبی اذیت\n",
            "سختگیری\n",
            "اساتید سخت گیرن هیچ قوانین دانشجو‌های ارشد سختگیرانه\n",
            "غذا سلف دوست همچنین قیمت غذا تابستان\n",
            "کیفیت غذا ی سلف راضی\n",
            "مسیر‌های داخل هیچ خدمات سرویسی\n",
            "مسیر سلف برگشتنش شیب زیادی دوره\n",
            "جای داخل بخوایم بریم جای دیگه مسیر‌ها دوره شیب‌های\n",
            "مترو دوره سخته\n",
            "دوچرخه داخل نداره مسیر‌های طولان\n",
            "روش‌های ارزیابی نمره دهی اساتید\n",
            "نمرات اساتید دانشجو‌ها میدهند راضی\n",
            "مسئولین قسمت‌ها بسیار مسئولیت پذیر\n",
            "مسئولین راضی\n",
            "تنوع غذای بوفه مرکزی\n",
            "پروژکتور‌های کلاس‌ها عمل می‌کند\n",
            "سطح علمی تحقیقات اساتید بالاس\n",
            "دانشجو‌های ارشد دکتری ازمایشگاه‌های تخصی اختصاص می‌دهند\n",
            "فضای سرسبزه\n",
            "فضای بزرگ سرسبز بودنشو دوست\n",
            "فضای هواشم تمیزه\n",
            "تنوع غذا بوفه\n",
            "غذا‌های بوفه پیتزاش عالیه\n",
            "دسترسی غذا هسونه تعداد بوفه‌ها کیفیتشون بدک\n",
            "غذا‌های سلف کمیت کیفیتشون مشکل\n",
            "کالا کیفیت غذای سلف اکثر دانشگاه‌ها راضی\n",
            "قوانین موجود کامپیوتر دانشجویات ارشد منطق مسخره\n",
            "غذا قوانین رفتار مسئولین راضی\n",
            "رفتار اساتید ندید\n",
            "قوانین ورود خروج زمانی\n"
          ]
        }
      ]
    },
    {
      "cell_type": "code",
      "source": [
        "df.to_csv('clean_data.csv')"
      ],
      "metadata": {
        "id": "msYq-X6IBetp"
      },
      "execution_count": 95,
      "outputs": []
    },
    {
      "cell_type": "markdown",
      "source": [
        "# BILD VOCABULARY"
      ],
      "metadata": {
        "id": "r4S-2rbqdj2N"
      }
    },
    {
      "cell_type": "markdown",
      "source": [
        "define vocabulary class"
      ],
      "metadata": {
        "id": "BrAtETsydqsk"
      }
    },
    {
      "cell_type": "code",
      "source": [
        "#The first thing to do is to create values for our start of sentence,\n",
        "# end of sentence, and sentence padding special tokens\n",
        "\n",
        "class Vocabulary:\n",
        "    PAD_token = 0   # Used for padding short sentences\n",
        "    SOS_token = 1   # Start-of-sentence token\n",
        "    EOS_token = 2   # End-of-sentence token\n",
        "\n",
        "    def __init__(self, name):\n",
        "        self.name = name\n",
        "        self.word2index = {}  #a dictionary to hold word token to corresponding word index values\n",
        "        self.word2count = {}  #a dictionary to hold individual word counts (tokens, actually) in the corpus\n",
        "        self.index2word = { 0: \"PAD\", 1: \"SOS\", 2: \"EOS\"}  \n",
        "              #a dictionary holding the reverse of word2index (word index keys to word token values); special tokens added right away\n",
        "        self.num_words = 3             #this will be a count of the number of words (tokens, actually) in the corpus\n",
        "        self.num_sentences = 0         # this will be a count of the number of sentences \n",
        "                                       #(text chunks of any indiscriminate length, actually) in the corpus\n",
        "        self.longest_sentence = 0      # this will be the length of the longest corpus sentence by number of tokens\n",
        "\n",
        "    def add_word(self, word):\n",
        "        if word not in self.word2index:\n",
        "                                        # First entry of word into vocabulary\n",
        "            self.word2index[word] = self.num_words\n",
        "            self.word2count[word] = 1\n",
        "            self.index2word[self.num_words] = word\n",
        "            self.num_words += 1\n",
        "        else:\n",
        "                                          # Word exists; increase word count\n",
        "            self.word2count[word] += 1\n",
        "            \n",
        "    def add_sentence(self, sentence):\n",
        "        sentence_len = 0\n",
        "        for word in sentence.split(' '):\n",
        "            sentence_len += 1\n",
        "            self.add_word(word)\n",
        "        if sentence_len > self.longest_sentence:\n",
        "            # This is the longest sentence\n",
        "            self.longest_sentence = sentence_len\n",
        "        # Count the number of sentences\n",
        "        self.num_sentences += 1\n",
        "\n",
        "    def to_word(self, index):\n",
        "        return self.index2word[index]\n",
        "\n",
        "    def to_index(self, word):\n",
        "        return self.word2index[word]\n",
        "\n",
        "\n",
        "\n"
      ],
      "metadata": {
        "id": "BbpJ3-5rdnxe"
      },
      "execution_count": 116,
      "outputs": []
    },
    {
      "cell_type": "markdown",
      "source": [
        "instantiation a vocabulary class for whole dataset"
      ],
      "metadata": {
        "id": "vKG7BLxMdwb0"
      }
    },
    {
      "cell_type": "code",
      "source": [
        "voc_Doc = Vocabulary('doc')\n",
        "print(voc_Doc)"
      ],
      "metadata": {
        "colab": {
          "base_uri": "https://localhost:8080/"
        },
        "id": "MjGdecy-euS0",
        "outputId": "6fce497a-44ca-4cab-e274-cfb02807647e"
      },
      "execution_count": 117,
      "outputs": [
        {
          "output_type": "stream",
          "name": "stdout",
          "text": [
            "<__main__.Vocabulary object at 0x7ff934fb7b90>\n"
          ]
        }
      ]
    },
    {
      "cell_type": "code",
      "source": [
        "for x in df.index:\n",
        "    #print(x)\n",
        "    text = df.loc[x, \"Comment\"]\n",
        "    print(text)\n",
        "    voc_Doc.add_sentence(text)"
      ],
      "metadata": {
        "id": "Aic9t8FOe99D",
        "colab": {
          "base_uri": "https://localhost:8080/"
        },
        "outputId": "46ad8314-e254-41d9-94c0-2c7c59c53100"
      },
      "execution_count": 118,
      "outputs": [
        {
          "output_type": "stream",
          "name": "stdout",
          "text": [
            "شهید انتخاب کردم عالیه\n",
            "بعد تحقیق بسیار دقیقا اساس اساتید اول انتخاب کردم اساتید\n",
            "نظمی بده\n",
            "یک نفر رضایتی ندار\n",
            "نظم خوابگاه راضی\n",
            "مسئولان سلب مسئولیت می‌کند نارضایتی\n",
            "حقوق دانشجو احترام نمی‌گذارند\n",
            "جاش بقیش بده\n",
            "آموزشی اساتیدی تمام دانشگاهای تهران ترجیحش مید\n",
            "آموزش برق ک ادب عالی هستن\n",
            "اساتید حداقل رشته جز سه نفرشون قاطع میتونم بگم جایگاه استادی نیستن راضی نیستم\n",
            "عرض کردم لحاظ آموزشی استادام نسبت تمام دانشگاه‌ها رشته\n",
            "ایراد\n",
            "حقیقتا منم شرایطم راضی\n",
            "اساتید رضایت\n",
            "امکانات ضعیف\n",
            "مسیر راه رفتن سخت امکاناتی\n",
            "دسترسی کتاب راضی\n",
            "ناراضی\n",
            "مزخرف‌ترین دانگاه\n",
            "دم تحمیل می‌کند موضوع پایان نامه مزخرفه\n",
            "دیگه جا انتخاب نمی‌کن\n",
            "راضی\n",
            "امکانات ضعیف\n",
            "رابطه زمان راضی\n",
            "امکان ورود زمان‌های تعطیل\n",
            "منطقه خوش اب هوای قرار\n",
            "مسیر سخته شیب\n",
            "طریقه اطلاع رسانی نمرات پیشرفته روز\n",
            "تعداد مناسب رستوران بوفه\n",
            "ارتباط مناسب صنعت\n",
            "ازمایشگاه‌های خوبی\n",
            "اساتید صنعت شرکت‌ها ارتباط\n",
            "اخلاق برخورد مناسب کارکن\n",
            "تنوع رابطه گرایش‌ها رشته‌های مختلف\n",
            "دچرخه فضای\n",
            "تنوعی غذای سلف\n",
            "سلف ناراضی\n",
            "سلف تابستان بسته\n",
            "شیب تسهیلات مناسب رابطه\n",
            "نحوه برگزاری کلاس سمینار\n",
            "تعداد واحد‌های قبل ترم بگذرانیم درستی انتخاب\n",
            "انتخاب استادان حل تمرین\n",
            "عملکرد استاد حل تمرین\n",
            "تنوع استادان\n",
            "تنوع درس‌ها\n",
            "سوالات امتحان‌ها طوری ک مطالب اصلی رها میشود روی مطالب جزی حفظی تمرکز میشود\n",
            "نحوه ارزیابی برخی اساتید کاملا غلط\n",
            "فضای مناسب برا ی برقراری ارتباط باه\n",
            "درک اساتید شرایط دانشجو\n",
            "مخالفت اندازه اساتید کارکردن دانشجویان\n",
            "آمادگی بیتوجهی اساتید تدریس\n",
            "کیفیت پاین کلاسهای آموزش\n",
            "تنوع درس‌ها برخلاف بقیه\n",
            "محیط مناسب لابی نشستن کار کامپیوتر\n",
            "استاد جا بیشتر مواقع تعریف بیشتر دانشجو تلاش بستگی\n",
            "امکانات ازمایشگاهیش عالیه\n",
            "فوق العادست\n",
            "میخوای جا جای دیگه بری سه ساعت راه بری کل وقتبره راضی\n",
            "سرویس داخل نداره\n",
            "بروکراسی اداری رسیدگی امور دانشجو لطفی مسئولین\n",
            "امکانات رفاهی\n",
            "استاد‌ها واقعاعملکرد مسخره‌ای\n",
            "عدالت نمره دادن اساتید دانشجو‌ها\n",
            "نحوه ارزیابی اساتید وعادلانه\n",
            "برخی اساتید دانشجو‌ها تبعیض میگذارند\n",
            "فضای سبز قشنگی\n",
            "قوانین عجیب بدی\n",
            "بوفه غذای مناسبی\n",
            "ارتباط صمیمی دانشجو اساتید\n",
            "زمانبندی ارائه سمینار پایان نامه‌ها غیر\n",
            "اساتید موضوعات کاری مختلف باعث می‌شود دانشجو راحت‌تر موضوع تحقیق مورد علاقه بپردازد\n",
            "رفتار اساتید دوستانه سر دلسوزی می‌باشد\n",
            "تعداد زیادی فکری آموزش محور\n",
            "قوانین موجود اموزش محور دانشجو‌ها عادلانه\n",
            "امکانات کلاس‌ها پروژکتور‌ها\n",
            "استاد‌های راهنما دانشجو مجبور بیان حوزه‌ی دلخواه خودشون کار کند\n",
            "نظرات توجهی نمی‌شود\n",
            "نظرسنجی‌های دانشجو‌ها اهمیتی نمی‌دهند\n",
            "اینترنت ضعیف\n",
            "دوران کرونا ارتباط اساتید دسترسی اساتید بسیار سخت\n",
            "بارم بندی غلط اکثر دروس\n",
            "نبودن نقشهی مناسب محل ساختمانها دانشکد\n",
            "امکانات ورزشی مناسب\n",
            "اساتید جوان آشنا تکنولوژیهای روز\n",
            "توجه فراوان مسائل فرهنگی ورزشی\n",
            "حراست دانشجویان احترام قایل\n",
            "رفتار کارکنان دوستانه\n",
            "نبود کمبود وسایل نقلیه جابجای دانشجویان داخل باعث ایجاد سختی دانشجویان می‌شود\n",
            "ارتیاط غیرموثر غیر صمیمی دانشجویان اساتید\n",
            "قوانین اموزشی غیر ناعادلانه\n",
            "ایجاد بستر مناسب شنیدن نظرات انتقادات دانشجویان\n",
            "بزرگی\n",
            "اساتید دلسوز باسواد\n",
            "فضای مناسب ایجاد رابطه‌های دوستی\n",
            "لحاظ تنوع دانشجویان مناسب\n",
            "دانشجو‌های پر تلاش ودرسخوان\n",
            "اطلاع رسانی درست قوانین\n",
            "ارائه درس‌های\n",
            "اندازه کلاس‌ها مناسب\n",
            "خدا لعنتشون اینقدر اذیت\n",
            "اموزش سخته مجازی بهتره\n",
            "مضخرفه\n",
            "اذیت می‌کند\n",
            "خوابگاه\n",
            "هفته‌ای پنج روز کلاس ساعت‌های پراکنده\n",
            "آموزش مجازی خانه خسته شده‌ام افسردگی\n",
            "امتحانات امتحانا سخت\n",
            "افتضاح افتضاح\n",
            "آموزش عالی یکی بهترین تجربه‌های\n",
            "امتحانات سخت پدرمون درامده سر امتح\n",
            "آموزش\n",
            "غذای دانشجو‌ها دنبال سختگیری جا\n",
            "تبعیض\n",
            "آدم تاسف میخوره بعضیا استادا ملکت اینطورین\n",
            "بله اساتید تبعیض قاعل میشوند مسعله ضر منصفانه\n",
            "غذای آشغاله\n",
            "مدرک الکی بدردنخور اخرش بیکار می‌ش\n",
            "سیستم اموزشی غلط اساس\n",
            "خابگاه‌ها\n",
            "کیفیت غذا بده\n",
            "آموزش\n",
            "وضعیه غذای بسته بندی حذف\n",
            "مسئول غذا ماسک نداره\n",
            "حق نگذریم یک لوکس بزرگه\n",
            "شهید فضای طبیعت آب هواش\n",
            "مدیریت خوبی\n",
            "افتضاحی\n",
            "وقت دانشجو‌ها صف غذا تلف\n",
            "مسئولین حرف دانشجو‌ها گوش نمی‌دهند\n",
            "اخیرا غذا کمتر تعداد داتشجو هاست یخ زده بچه‌ها\n",
            "تعداد سگ‌های خوابگاه موضوع اذیت\n",
            "وقتی دانشجو کسی مهم نیست فایده\n",
            "آموزش مشکل دوری مسیر صبح بیدار دیربرگشتن خونهاینا اذیت\n",
            "ذره خجالت بکشن استادا شرم کنید خدا\n",
            "قوانین اموزش محور مضخرفه\n",
            "شاهد افت کیفی عذاها کنار حجم\n",
            "افتضاح هیچ وقت روز اولی اومدم خوابگاه نمیره تمام تصوراتم خراب\n",
            "مسخره‌ترین روش توزیع غذارو بعد سال درس خوندن توی دانشگاه‌های مختلف تاحالا اینهمه نظمی برنامگی کیفیتی ندید\n",
            "فضای خوبی محوطه زیبا\n",
            "سرعت اینتر نت ازار دهنده\n",
            "سخته مترو دوره\n",
            "کل سطح علمی اساتید\n",
            "می‌شود انجام پروژه‌های صنعتی اساتیدکمک\n",
            "حضور اساتید فیلدها کاری متفاوت کمک می‌کنه انتخاب موضوع دانشجو حق انتخاب باشه\n",
            "محل تحصیل اساتید دانشجویان پردیس شبانه یکی تنوع خی\n",
            "اعتراض نمرات اساتید انعطاف پذیر نیستن\n",
            "دلیل کرونا مجازی امتحان‌ها شدت سخت زمان امتحان\n",
            "فارغ التحصیل ارشد طولانی\n",
            "دانشجو کسی مهم\n",
            "فکری حال اون غذاهای اشغال سلف‌ها نمیکند افتضاحن\n",
            "یاد گیر بدن\n",
            "فکر رفاه دانشجویان نیستند اهمیت نمی‌دهند\n",
            "استادان دانشجو‌ها تبعیض قائل می‌شوند\n",
            "امکانات\n",
            "اساتیدبه دانشجو‌ها استرس وارد می‌کند\n",
            "افتضاحه کیفیت غذا پاینه غذا\n",
            "خابگاه‌ها غذا آموزش\n",
            "قیمت غذای سلف تابستان منطق\n",
            "بزرگی\n",
            "همایش‌های مفیدی برگزار می‌شود\n",
            "اندازه کلاس‌ها مناسب\n",
            "اساتید دلسوز مهربان\n",
            "قوانین بیخود سختگیری‌های دلیل زیادی\n",
            "نگهبانان دم خوش برخورد\n",
            "خاصی گیر نمیدهند اذیت نمی‌کند\n",
            "رقابت سالم دانشجویان\n",
            "مسئولین راضی\n",
            "ازمایشگاه‌های خوبی زیادی\n",
            "دروس ازمایشگاه\n",
            "زمان مجازی امکانات دا\n",
            "بوفه\n",
            "کیفیت اساتید مدیریت بسیار بالاس\n",
            "اساتید کامپیوتر ارزیابی\n",
            "کامپیوتر قوانین سختگیرانه جا دانشجویان ارشد\n",
            "فکر دانشجویان ارشد اموزش محور می‌کند\n",
            "کیفیت غذا راضی\n",
            "قیمت غذا‌ها ی سلف مناسب\n",
            "تابستان یک وعده غذا می‌دهند بده\n",
            "ازمایشگاه‌ها امکانات خوبی\n",
            "مسئول ازمایشگاه خوش برخورد\n",
            "راه‌های ارتباطی دانشجو اساتید راضی\n",
            "اساتید امکانات کاراموزی دانشجو‌ها بعد فارغ التحصیلی فراهم می‌کند انشجو اهمیت می‌دهند\n",
            "اساتید دانشجویان اهمیت می‌دهند\n",
            "نظرسنجی‌ها\n",
            "بیشتر روح روان دانشجو اهمیت\n",
            "حجم استرس امتحانات روش‌های ارزیابی اساتید\n",
            "اساتید روش‌های ارزیابی مناسبی\n",
            "سرویس حمل نقل ضعیف\n",
            "باغچه‌ها می‌رسند\n",
            "پنجشنبه‌ها اجازه ورود داریم\n",
            "سخته\n",
            "مترو دوره\n",
            "سطح اساتید\n",
            "انجام پوژه‌های صنعتی اساتید کمک\n",
            "محل تحصیل دانشجویان شبانه پردیس یک جا عالیه\n",
            "تفاوت دانشجویان پردیس شبانه\n",
            "اساتیدی حوزه خودشون دانش کافی روز\n",
            "وام‌های دانشجوی متنوع عالیه\n",
            "شیب\n",
            "مسیر خوابگاه شیب زیادی پای ادم درد می‌گیره\n",
            "زمین همش شیب تند یا سراشیبی اذیت\n",
            "سختگیری\n",
            "اساتید سخت گیرن هیچ قوانین دانشجو‌های ارشد سختگیرانه\n",
            "غذا سلف دوست همچنین قیمت غذا تابستان\n",
            "کیفیت غذا ی سلف راضی\n",
            "مسیر‌های داخل هیچ خدمات سرویسی\n",
            "مسیر سلف برگشتنش شیب زیادی دوره\n",
            "جای داخل بخوایم بریم جای دیگه مسیر‌ها دوره شیب‌های\n",
            "مترو دوره سخته\n",
            "دوچرخه داخل نداره مسیر‌های طولان\n",
            "روش‌های ارزیابی نمره دهی اساتید\n",
            "نمرات اساتید دانشجو‌ها میدهند راضی\n",
            "مسئولین قسمت‌ها بسیار مسئولیت پذیر\n",
            "مسئولین راضی\n",
            "تنوع غذای بوفه مرکزی\n",
            "پروژکتور‌های کلاس‌ها عمل می‌کند\n",
            "سطح علمی تحقیقات اساتید بالاس\n",
            "دانشجو‌های ارشد دکتری ازمایشگاه‌های تخصی اختصاص می‌دهند\n",
            "فضای سرسبزه\n",
            "فضای بزرگ سرسبز بودنشو دوست\n",
            "فضای هواشم تمیزه\n",
            "تنوع غذا بوفه\n",
            "غذا‌های بوفه پیتزاش عالیه\n",
            "دسترسی غذا هسونه تعداد بوفه‌ها کیفیتشون بدک\n",
            "غذا‌های سلف کمیت کیفیتشون مشکل\n",
            "کالا کیفیت غذای سلف اکثر دانشگاه‌ها راضی\n",
            "قوانین موجود کامپیوتر دانشجویات ارشد منطق مسخره\n",
            "غذا قوانین رفتار مسئولین راضی\n",
            "رفتار اساتید ندید\n",
            "قوانین ورود خروج زمانی\n"
          ]
        }
      ]
    },
    {
      "cell_type": "code",
      "source": [
        "print(f\"number of sentences in whole document = {voc_Doc.num_sentences}\")\n",
        "print(f'number of unique word in whole document = {voc_Doc.num_words}')"
      ],
      "metadata": {
        "colab": {
          "base_uri": "https://localhost:8080/"
        },
        "id": "ikPr4q8VfYtT",
        "outputId": "7b222f46-1ca1-48b1-c7c5-36f2b7b79a3d"
      },
      "execution_count": 119,
      "outputs": [
        {
          "output_type": "stream",
          "name": "stdout",
          "text": [
            "number of sentences in whole document = 231\n",
            "number of unique word in whole document = 583\n"
          ]
        }
      ]
    },
    {
      "cell_type": "code",
      "source": [
        "sortedL_doc=sorted(voc_Doc.word2count.items(), key=lambda kv:\n",
        "                 ( kv[1] , kv[0]))\n",
        "print(sortedL_doc)\n",
        "\n",
        "vocab=[ sortedL_doc[i][0]  for i in range(len(sortedL_doc)) ]\n",
        "vector=[ sortedL_doc[i][1]  for i in range(len(sortedL_doc)) ]"
      ],
      "metadata": {
        "colab": {
          "base_uri": "https://localhost:8080/"
        },
        "id": "4UVlVJXNfgLq",
        "outputId": "668509a3-0e89-406c-d02f-5e96eb014461"
      },
      "execution_count": 120,
      "outputs": [
        {
          "output_type": "stream",
          "name": "stdout",
          "text": [
            "[('آب', 1), ('آدم', 1), ('آشغاله', 1), ('آشنا', 1), ('آمادگی', 1), ('اب', 1), ('اجازه', 1), ('اختصاص', 1), ('اخرش', 1), ('اخلاق', 1), ('اخیرا', 1), ('اداری', 1), ('ادب', 1), ('ادم', 1), ('ارتباطی', 1), ('ارتیاط', 1), ('ازار', 1), ('ازمایشگاهیش', 1), ('ازمایشگاه\\u200cها', 1), ('اساتیدبه', 1), ('اساتیدکمک', 1), ('استادام', 1), ('استادی', 1), ('استاد\\u200cها', 1), ('استاد\\u200cهای', 1), ('اشغال', 1), ('اصلی', 1), ('اعتراض', 1), ('افت', 1), ('افتضاحن', 1), ('افتضاحه', 1), ('افتضاحی', 1), ('افسردگی', 1), ('التحصیل', 1), ('التحصیلی', 1), ('العادست', 1), ('الکی', 1), ('امتح', 1), ('امتحان', 1), ('امتحانا', 1), ('امور', 1), ('امکان', 1), ('امکاناتی', 1), ('انتقادات', 1), ('انشجو', 1), ('انعطاف', 1), ('اهمیتی', 1), ('اول', 1), ('اولی', 1), ('اومدم', 1), ('اون', 1), ('ایراد', 1), ('اینتر', 1), ('اینترنت', 1), ('اینطورین', 1), ('اینقدر', 1), ('اینهمه', 1), ('بارم', 1), ('باسواد', 1), ('باشه', 1), ('باغچه\\u200cها', 1), ('باه', 1), ('بخوایم', 1), ('بدردنخور', 1), ('بدن', 1), ('بدک', 1), ('بدی', 1), ('برا', 1), ('برخلاف', 1), ('برق', 1), ('برقراری', 1), ('برنامگی', 1), ('بروکراسی', 1), ('برگزار', 1), ('برگزاری', 1), ('برگشتنش', 1), ('بریم', 1), ('بزرگ', 1), ('بزرگه', 1), ('بستر', 1), ('بستگی', 1), ('بعضیا', 1), ('بقیش', 1), ('بقیه', 1), ('بله', 1), ('بهتره', 1), ('بهترین', 1), ('بودنشو', 1), ('بوفه\\u200cها', 1), ('بپردازد', 1), ('بچه\\u200cها', 1), ('بکشن', 1), ('بگذرانیم', 1), ('بگم', 1), ('بیان', 1), ('بیتوجهی', 1), ('بیخود', 1), ('بیدار', 1), ('بیکار', 1), ('تاحالا', 1), ('تاسف', 1), ('تجربه\\u200cهای', 1), ('تحقیقات', 1), ('تحمیل', 1), ('تخصی', 1), ('تدریس', 1), ('ترجیحش', 1), ('ترم', 1), ('تسهیلات', 1), ('تصوراتم', 1), ('تعریف', 1), ('تعطیل', 1), ('تفاوت', 1), ('تلف', 1), ('تمرکز', 1), ('تمیزه', 1), ('تند', 1), ('تنوعی', 1), ('تهران', 1), ('توجه', 1), ('توجهی', 1), ('توزیع', 1), ('توی', 1), ('تکنولوژیهای', 1), ('جابجای', 1), ('جاش', 1), ('جایگاه', 1), ('جز', 1), ('جزی', 1), ('جوان', 1), ('حال', 1), ('حداقل', 1), ('حذف', 1), ('حراست', 1), ('حرف', 1), ('حضور', 1), ('حفظی', 1), ('حقوق', 1), ('حقیقتا', 1), ('حمل', 1), ('حوزه', 1), ('حوزه\\u200cی', 1), ('خاصی', 1), ('خانه', 1), ('خجالت', 1), ('خدمات', 1), ('خراب', 1), ('خروج', 1), ('خسته', 1), ('خوندن', 1), ('خونهاینا', 1), ('خی', 1), ('دا', 1), ('داتشجو', 1), ('دادن', 1), ('داریم', 1), ('دانش', 1), ('دانشجوی', 1), ('دانشجویات', 1), ('دانشکد', 1), ('دانشگاهای', 1), ('دانشگاه\\u200cهای', 1), ('دانگاه', 1), ('درامده', 1), ('درد', 1), ('درس', 1), ('درست', 1), ('درستی', 1), ('درس\\u200cهای', 1), ('درک', 1), ('دقیقا', 1), ('دلخواه', 1), ('دلسوزی', 1), ('دنبال', 1), ('دهنده', 1), ('دهی', 1), ('دوران', 1), ('دوری', 1), ('دوستی', 1), ('دوچرخه', 1), ('دچرخه', 1), ('دکتری', 1), ('دیربرگشتن', 1), ('ذره', 1), ('رابطه\\u200cهای', 1), ('راحت\\u200cتر', 1), ('راهنما', 1), ('راه\\u200cهای', 1), ('رستوران', 1), ('رسیدگی', 1), ('رشته\\u200cهای', 1), ('رضایت', 1), ('رضایتی', 1), ('رفاه', 1), ('رفاهی', 1), ('رفتن', 1), ('رقابت', 1), ('رها', 1), ('روان', 1), ('روح', 1), ('روش', 1), ('روی', 1), ('زده', 1), ('زمانبندی', 1), ('زمانی', 1), ('زمان\\u200cهای', 1), ('زمین', 1), ('زیبا', 1), ('ساختمانها', 1), ('ساعت', 1), ('ساعت\\u200cهای', 1), ('سال', 1), ('سالم', 1), ('سبز', 1), ('سختگیری\\u200cهای', 1), ('سختی', 1), ('سراشیبی', 1), ('سرسبز', 1), ('سرسبزه', 1), ('سرعت', 1), ('سرویسی', 1), ('سلب', 1), ('سلف\\u200cها', 1), ('سوالات', 1), ('سگ\\u200cهای', 1), ('سیستم', 1), ('شاهد', 1), ('شدت', 1), ('شده\\u200cام', 1), ('شرایط', 1), ('شرایطم', 1), ('شرم', 1), ('شرکت\\u200cها', 1), ('شنیدن', 1), ('شیب\\u200cهای', 1), ('صبح', 1), ('صف', 1), ('ضر', 1), ('طبیعت', 1), ('طریقه', 1), ('طوری', 1), ('طولان', 1), ('طولانی', 1), ('عادلانه', 1), ('عجیب', 1), ('عدالت', 1), ('عذاها', 1), ('عرض', 1), ('علاقه', 1), ('عمل', 1), ('عملکرد', 1), ('غذارو', 1), ('غذاهای', 1), ('غذا\\u200cها', 1), ('غیرموثر', 1), ('فایده', 1), ('فراهم', 1), ('فراوان', 1), ('فرهنگی', 1), ('فوق', 1), ('فیلدها', 1), ('قائل', 1), ('قاطع', 1), ('قاعل', 1), ('قایل', 1), ('قبل', 1), ('قرار', 1), ('قسمت\\u200cها', 1), ('قشنگی', 1), ('لابی', 1), ('لطفی', 1), ('لعنتشون', 1), ('لوکس', 1), ('ماسک', 1), ('متفاوت', 1), ('متنوع', 1), ('مجبور', 1), ('محوطه', 1), ('محیط', 1), ('مخالفت', 1), ('مدرک', 1), ('مرکزی', 1), ('مزخرفه', 1), ('مزخرف\\u200cترین', 1), ('مسئولان', 1), ('مسائل', 1), ('مسخره', 1), ('مسخره\\u200cای', 1), ('مسخره\\u200cترین', 1), ('مسعله', 1), ('مسیر\\u200cها', 1), ('مفیدی', 1), ('ملکت', 1), ('منصفانه', 1), ('منطقه', 1), ('منم', 1), ('مهربان', 1), ('مواقع', 1), ('مورد', 1), ('موضوعات', 1), ('میتونم', 1), ('میخوای', 1), ('میخوره', 1), ('مید', 1), ('میدهند', 1), ('میشوند', 1), ('میگذارند', 1), ('می\\u200cباشد', 1), ('می\\u200cرسند', 1), ('می\\u200cش', 1), ('می\\u200cشوند', 1), ('می\\u200cکنه', 1), ('می\\u200cگیره', 1), ('نارضایتی', 1), ('ناعادلانه', 1), ('نامه', 1), ('نامه\\u200cها', 1), ('نبود', 1), ('نبودن', 1), ('نت', 1), ('ندار', 1), ('نسبت', 1), ('نشستن', 1), ('نظرسنجی\\u200cها', 1), ('نظرسنجی\\u200cهای', 1), ('نظم', 1), ('نفر', 1), ('نفرشون', 1), ('نقشهی', 1), ('نقل', 1), ('نقلیه', 1), ('نمیدهند', 1), ('نمیره', 1), ('نمیکند', 1), ('نمی\\u200cشود', 1), ('نمی\\u200cکن', 1), ('نمی\\u200cکند', 1), ('نمی\\u200cگذارند', 1), ('نگذریم', 1), ('نگهبانان', 1), ('نیست', 1), ('نیستم', 1), ('نیستند', 1), ('هاست', 1), ('هستن', 1), ('هسونه', 1), ('هفته\\u200cای', 1), ('همایش\\u200cهای', 1), ('همش', 1), ('همچنین', 1), ('هواش', 1), ('هواشم', 1), ('هوای', 1), ('واحد\\u200cهای', 1), ('وارد', 1), ('واقعاعملکرد', 1), ('وام\\u200cهای', 1), ('ودرسخوان', 1), ('وسایل', 1), ('وضعیه', 1), ('وعادلانه', 1), ('وعده', 1), ('وقتبره', 1), ('وقتی', 1), ('پای', 1), ('پاین', 1), ('پاینه', 1), ('پدرمون', 1), ('پر', 1), ('پراکنده', 1), ('پروژه\\u200cهای', 1), ('پروژکتور\\u200cها', 1), ('پروژکتور\\u200cهای', 1), ('پنج', 1), ('پنجشنبه\\u200cها', 1), ('پوژه\\u200cهای', 1), ('پیتزاش', 1), ('پیشرفته', 1), ('کاراموزی', 1), ('کارکردن', 1), ('کارکن', 1), ('کارکنان', 1), ('کافی', 1), ('کالا', 1), ('کاملا', 1), ('کتاب', 1), ('کلاسهای', 1), ('کمبود', 1), ('کمتر', 1), ('کمیت', 1), ('کنار', 1), ('کند', 1), ('کنید', 1), ('کیفی', 1), ('کیفیتی', 1), ('گرایش\\u200cها', 1), ('گوش', 1), ('گیرن', 1), ('یا', 1), ('یاد', 1), ('یخ', 1), ('آموزشی', 2), ('احترام', 2), ('ارائه', 2), ('ازمایشگاه', 2), ('اساتیدی', 2), ('اساس', 2), ('استاد', 2), ('استادا', 2), ('استرس', 2), ('اطلاع', 2), ('امتحان\\u200cها', 2), ('اموزشی', 2), ('انجام', 2), ('اکثر', 2), ('باعث', 2), ('بالاس', 2), ('برخی', 2), ('بری', 2), ('بزرگی', 2), ('بسته', 2), ('بندی', 2), ('تحصیل', 2), ('تحقیق', 2), ('تلاش', 2), ('تمرین', 2), ('حجم', 2), ('حق', 2), ('حل', 2), ('خابگاه\\u200cها', 2), ('خدا', 2), ('خودشون', 2), ('دانشگاه\\u200cها', 2), ('درس\\u200cها', 2), ('دروس', 2), ('دلسوز', 2), ('دلیل', 2), ('دم', 2), ('دوست', 2), ('دوستانه', 2), ('راه', 2), ('رسانی', 2), ('رشته', 2), ('سختگیرانه', 2), ('سختگیری', 2), ('سر', 2), ('سرویس', 2), ('سمینار', 2), ('سه', 2), ('شهید', 2), ('صمیمی', 2), ('صنعت', 2), ('صنعتی', 2), ('عالی', 2), ('علمی', 2), ('غذا\\u200cهای', 2), ('فارغ', 2), ('فکر', 2), ('فکری', 2), ('لحاظ', 2), ('مدیریت', 2), ('مسئول', 2), ('مسئولیت', 2), ('مسیر\\u200cهای', 2), ('مشکل', 2), ('مضخرفه', 2), ('مطالب', 2), ('مناسبی', 2), ('منطق', 2), ('مهم', 2), ('موجود', 2), ('میشود', 2), ('ناراضی', 2), ('ندید', 2), ('نظرات', 2), ('نظمی', 2), ('نمره', 2), ('نیستن', 2), ('ورزشی', 2), ('وقت', 2), ('پایان', 2), ('پذیر', 2), ('ک', 2), ('کار', 2), ('کاری', 2), ('کرونا', 2), ('کسی', 2), ('کل', 2), ('کلاس', 2), ('کمک', 2), ('کیفیتشون', 2), ('گیر', 2), ('یکی', 2), ('ازمایشگاه\\u200cهای', 3), ('استادان', 3), ('افتضاح', 3), ('امتحانات', 3), ('اندازه', 3), ('ایجاد', 3), ('برخورد', 3), ('بعد', 3), ('بیشتر', 3), ('تمام', 3), ('جای', 3), ('خوش', 3), ('دانشجو\\u200cهای', 3), ('دسترسی', 3), ('دیگه', 3), ('رابطه', 3), ('روش\\u200cهای', 3), ('زمان', 3), ('سطح', 3), ('شبانه', 3), ('غلط', 3), ('غیر', 3), ('قیمت', 3), ('مترو', 3), ('محل', 3), ('مختلف', 3), ('نحوه', 3), ('نداره', 3), ('نمرات', 3), ('نمی\\u200cدهند', 3), ('هیچ', 3), ('ورود', 3), ('پردیس', 3), ('کردم', 3), ('ی', 3), ('اموزش', 4), ('اهمیت', 4), ('بده', 4), ('بسیار', 4), ('تابستان', 4), ('تبعیض', 4), ('رفتار', 4), ('ضعیف', 4), ('مجازی', 4), ('محور', 4), ('موضوع', 4), ('می\\u200cدهند', 4), ('می\\u200cشود', 4), ('کامپیوتر', 4), ('کلاس\\u200cها', 4), ('یک', 4), ('ارتباط', 5), ('خوابگاه', 5), ('خوبی', 5), ('داخل', 5), ('دوره', 5), ('روز', 5), ('زیادی', 5), ('سخته', 5), ('عالیه', 5), ('مسیر', 5), ('اذیت', 6), ('ارزیابی', 6), ('ارشد', 6), ('بوفه', 6), ('تعداد', 6), ('جا', 6), ('سخت', 6), ('شیب', 6), ('مسئولین', 6), ('انتخاب', 7), ('می\\u200cکند', 7), ('کیفیت', 7), ('تنوع', 8), ('غذای', 8), ('آموزش', 9), ('فضای', 9), ('امکانات', 10), ('سلف', 10), ('دانشجو\\u200cها', 11), ('قوانین', 11), ('دانشجو', 12), ('مناسب', 14), ('دانشجویان', 15), ('راضی', 15), ('غذا', 15), ('اساتید', 40)]\n"
          ]
        }
      ]
    },
    {
      "cell_type": "markdown",
      "source": [
        "**select negative comments and count vocabularies of it**"
      ],
      "metadata": {
        "id": "fT63k8an2pSF"
      }
    },
    {
      "cell_type": "code",
      "source": [
        "neg_doc = df.loc[df['Label'] == 1]\n",
        "\n",
        "neg_doc.to_csv(r'c:\\data\\negative.txt', header=None, index=None, sep='\\t', mode='a')\n",
        "\n",
        "neg_Doc_v = Vocabulary('neg_doc_v')\n",
        "\n",
        "for x in neg_doc.index:\n",
        "    #print(x)\n",
        "    text = neg_doc.loc[x, \"Comment\"]\n",
        "    #print(text)\n",
        "    neg_Doc_v.add_sentence(text)\n",
        "neg_doc.head(10)\n",
        "\n",
        "print(f\"number of sentences in whole documents = {neg_Doc_v.num_sentences}\")\n",
        "print(f'number of unique word in whole documents = {neg_Doc_v.num_words}')\n",
        "\n",
        "\n",
        "sortedL_neg_Doc=sorted(neg_Doc_v.word2count.items(), key=lambda kv:\n",
        "                 ( kv[1] , kv[0]))\n",
        "\n",
        "\n",
        "vocab_neg=[ sortedL_neg_Doc[i][0]  for i in range(len(sortedL_neg_Doc)) ]\n",
        "vector_neg=[ sortedL_neg_Doc[i][1]  for i in range(len(sortedL_neg_Doc)) ]\n",
        "print(sortedL_neg_Doc)\n",
        "\n"
      ],
      "metadata": {
        "colab": {
          "base_uri": "https://localhost:8080/"
        },
        "id": "hbUMod_DzXry",
        "outputId": "0a6dd97a-09d3-4c4e-b51d-dc2fa34687e9"
      },
      "execution_count": 150,
      "outputs": [
        {
          "output_type": "stream",
          "name": "stdout",
          "text": [
            "number of sentences in whole documents = 145\n",
            "number of unique word in whole documents = 422\n",
            "[('آدم', 1), ('آشغاله', 1), ('آمادگی', 1), ('اب', 1), ('احترام', 1), ('اخرش', 1), ('اخیرا', 1), ('اداری', 1), ('ادم', 1), ('ارتیاط', 1), ('ازار', 1), ('ازمایشگاه', 1), ('اساتیدبه', 1), ('اساس', 1), ('استاد', 1), ('استادی', 1), ('استاد\\u200cها', 1), ('استاد\\u200cهای', 1), ('اشغال', 1), ('اصلی', 1), ('اطلاع', 1), ('اعتراض', 1), ('افت', 1), ('افتضاحن', 1), ('افتضاحه', 1), ('افتضاحی', 1), ('افسردگی', 1), ('التحصیل', 1), ('الکی', 1), ('امتح', 1), ('امتحان', 1), ('امتحانا', 1), ('امور', 1), ('امکاناتی', 1), ('انتقادات', 1), ('اندازه', 1), ('انعطاف', 1), ('اهمیتی', 1), ('اولی', 1), ('اومدم', 1), ('اون', 1), ('ایراد', 1), ('اینتر', 1), ('اینترنت', 1), ('اینطورین', 1), ('اینقدر', 1), ('اینهمه', 1), ('بارم', 1), ('باعث', 1), ('بخوایم', 1), ('بدردنخور', 1), ('بدن', 1), ('بدی', 1), ('برخلاف', 1), ('برنامگی', 1), ('بروکراسی', 1), ('برگزاری', 1), ('برگشتنش', 1), ('بریم', 1), ('بستر', 1), ('بسیار', 1), ('بعد', 1), ('بعضیا', 1), ('بقیش', 1), ('بقیه', 1), ('بله', 1), ('بوفه', 1), ('بچه\\u200cها', 1), ('بکشن', 1), ('بگذرانیم', 1), ('بگم', 1), ('بیان', 1), ('بیتوجهی', 1), ('بیخود', 1), ('بیدار', 1), ('بیشتر', 1), ('بیکار', 1), ('تاحالا', 1), ('تاسف', 1), ('تحمیل', 1), ('تدریس', 1), ('ترم', 1), ('تسهیلات', 1), ('تصوراتم', 1), ('تلف', 1), ('تمام', 1), ('تمرکز', 1), ('تند', 1), ('تنوعی', 1), ('توجهی', 1), ('توزیع', 1), ('توی', 1), ('جابجای', 1), ('جاش', 1), ('جایگاه', 1), ('جز', 1), ('جزی', 1), ('حال', 1), ('حداقل', 1), ('حذف', 1), ('حرف', 1), ('حفظی', 1), ('حقوق', 1), ('حمل', 1), ('حوزه\\u200cی', 1), ('خانه', 1), ('خجالت', 1), ('خدمات', 1), ('خراب', 1), ('خسته', 1), ('خودشون', 1), ('خوش', 1), ('خوندن', 1), ('خونهاینا', 1), ('دا', 1), ('داتشجو', 1), ('دادن', 1), ('دانشجویات', 1), ('دانشجو\\u200cهای', 1), ('دانشکد', 1), ('دانشگاه\\u200cها', 1), ('دانشگاه\\u200cهای', 1), ('دانگاه', 1), ('درامده', 1), ('درد', 1), ('درس', 1), ('درست', 1), ('درستی', 1), ('درس\\u200cهای', 1), ('درک', 1), ('دلخواه', 1), ('دم', 1), ('دنبال', 1), ('دهنده', 1), ('دهی', 1), ('دوران', 1), ('دوری', 1), ('دوست', 1), ('دوچرخه', 1), ('دچرخه', 1), ('دیربرگشتن', 1), ('ذره', 1), ('رابطه', 1), ('راهنما', 1), ('رسانی', 1), ('رسیدگی', 1), ('رشته', 1), ('رضایتی', 1), ('رفاه', 1), ('رفاهی', 1), ('رفتار', 1), ('رفتن', 1), ('رها', 1), ('روان', 1), ('روح', 1), ('روش', 1), ('روی', 1), ('زده', 1), ('زمانبندی', 1), ('زمین', 1), ('ساختمانها', 1), ('ساعت', 1), ('ساعت\\u200cهای', 1), ('سال', 1), ('سختگیری\\u200cهای', 1), ('سختی', 1), ('سر', 1), ('سراشیبی', 1), ('سرعت', 1), ('سرویسی', 1), ('سلب', 1), ('سلف\\u200cها', 1), ('سوالات', 1), ('سگ\\u200cهای', 1), ('سیستم', 1), ('شاهد', 1), ('شدت', 1), ('شده\\u200cام', 1), ('شرایط', 1), ('شرم', 1), ('شنیدن', 1), ('شیب\\u200cهای', 1), ('صبح', 1), ('صف', 1), ('ضر', 1), ('طوری', 1), ('طولان', 1), ('طولانی', 1), ('عادلانه', 1), ('عجیب', 1), ('عدالت', 1), ('عذاها', 1), ('عملکرد', 1), ('غذارو', 1), ('غذاهای', 1), ('غذا\\u200cهای', 1), ('غیرموثر', 1), ('فارغ', 1), ('فایده', 1), ('فضای', 1), ('قائل', 1), ('قاطع', 1), ('قاعل', 1), ('قبل', 1), ('قرار', 1), ('لابی', 1), ('لطفی', 1), ('لعنتشون', 1), ('ماسک', 1), ('مجبور', 1), ('محل', 1), ('محیط', 1), ('مخالفت', 1), ('مختلف', 1), ('مدرک', 1), ('مزخرفه', 1), ('مزخرف\\u200cترین', 1), ('مسئول', 1), ('مسئولان', 1), ('مسئولیت', 1), ('مسخره', 1), ('مسخره\\u200cای', 1), ('مسخره\\u200cترین', 1), ('مسعله', 1), ('مسیر\\u200cها', 1), ('ملکت', 1), ('مناسبی', 1), ('منصفانه', 1), ('منطقه', 1), ('میتونم', 1), ('میخوای', 1), ('میخوره', 1), ('میدهند', 1), ('میشوند', 1), ('میگذارند', 1), ('می\\u200cدهند', 1), ('می\\u200cش', 1), ('می\\u200cشود', 1), ('می\\u200cشوند', 1), ('می\\u200cگیره', 1), ('نارضایتی', 1), ('ناعادلانه', 1), ('نامه', 1), ('نامه\\u200cها', 1), ('نبود', 1), ('نبودن', 1), ('نت', 1), ('ندار', 1), ('ندید', 1), ('نشستن', 1), ('نظرسنجی\\u200cها', 1), ('نظرسنجی\\u200cهای', 1), ('نظم', 1), ('نفر', 1), ('نفرشون', 1), ('نقشهی', 1), ('نقل', 1), ('نقلیه', 1), ('نمیره', 1), ('نمیکند', 1), ('نمی\\u200cشود', 1), ('نمی\\u200cکن', 1), ('نمی\\u200cگذارند', 1), ('نیست', 1), ('نیستم', 1), ('نیستند', 1), ('هاست', 1), ('هفته\\u200cای', 1), ('همش', 1), ('همچنین', 1), ('هوای', 1), ('واحد\\u200cهای', 1), ('وارد', 1), ('واقعاعملکرد', 1), ('وسایل', 1), ('وضعیه', 1), ('وعادلانه', 1), ('وعده', 1), ('وقتبره', 1), ('وقتی', 1), ('پای', 1), ('پاین', 1), ('پاینه', 1), ('پدرمون', 1), ('پذیر', 1), ('پراکنده', 1), ('پروژکتور\\u200cها', 1), ('پنج', 1), ('ک', 1), ('کارکردن', 1), ('کالا', 1), ('کاملا', 1), ('کتاب', 1), ('کل', 1), ('کلاسهای', 1), ('کلاس\\u200cها', 1), ('کمبود', 1), ('کمتر', 1), ('کمیت', 1), ('کنار', 1), ('کند', 1), ('کنید', 1), ('کیفی', 1), ('کیفیتشون', 1), ('کیفیتی', 1), ('گوش', 1), ('گیر', 1), ('گیرن', 1), ('ی', 1), ('یا', 1), ('یاد', 1), ('یخ', 1), ('ارائه', 2), ('ارتباط', 2), ('استادا', 2), ('استرس', 2), ('امتحان\\u200cها', 2), ('اموزشی', 2), ('اهمیت', 2), ('اکثر', 2), ('ایجاد', 2), ('برخی', 2), ('بری', 2), ('بسته', 2), ('بندی', 2), ('تمرین', 2), ('حجم', 2), ('حل', 2), ('خابگاه\\u200cها', 2), ('خدا', 2), ('درس\\u200cها', 2), ('دروس', 2), ('دسترسی', 2), ('دلیل', 2), ('راه', 2), ('روز', 2), ('روش\\u200cهای', 2), ('زمان', 2), ('سختگیرانه', 2), ('سختگیری', 2), ('سرویس', 2), ('سمینار', 2), ('سه', 2), ('صمیمی', 2), ('فکر', 2), ('فکری', 2), ('قیمت', 2), ('مسیر\\u200cهای', 2), ('مشکل', 2), ('مضخرفه', 2), ('مطالب', 2), ('منطق', 2), ('مهم', 2), ('موجود', 2), ('موضوع', 2), ('میشود', 2), ('ناراضی', 2), ('نظرات', 2), ('نظمی', 2), ('نمرات', 2), ('نمره', 2), ('نیستن', 2), ('وقت', 2), ('پایان', 2), ('کار', 2), ('کرونا', 2), ('کسی', 2), ('کلاس', 2), ('یک', 2), ('استادان', 3), ('افتضاح', 3), ('امتحانات', 3), ('اموزش', 3), ('انتخاب', 3), ('تنوع', 3), ('جای', 3), ('دیگه', 3), ('غلط', 3), ('غیر', 3), ('مترو', 3), ('مجازی', 3), ('نحوه', 3), ('نداره', 3), ('نمی\\u200cدهند', 3), ('هیچ', 3), ('بده', 4), ('تابستان', 4), ('تبعیض', 4), ('تعداد', 4), ('جا', 4), ('زیادی', 4), ('سخته', 4), ('ضعیف', 4), ('محور', 4), ('مسئولین', 4), ('مناسب', 4), ('کامپیوتر', 4), ('اذیت', 5), ('ارزیابی', 5), ('ارشد', 5), ('امکانات', 5), ('خوابگاه', 5), ('داخل', 5), ('دوره', 5), ('مسیر', 5), ('می\\u200cکند', 5), ('آموزش', 6), ('سخت', 6), ('شیب', 6), ('کیفیت', 6), ('غذای', 7), ('دانشجو', 8), ('دانشجویان', 8), ('سلف', 9), ('دانشجو\\u200cها', 10), ('راضی', 10), ('قوانین', 10), ('غذا', 13), ('اساتید', 19)]\n"
          ]
        }
      ]
    },
    {
      "cell_type": "markdown",
      "source": [
        "**select posetive comments and count vocabularis of it**"
      ],
      "metadata": {
        "id": "N8kBz-op2099"
      }
    },
    {
      "cell_type": "code",
      "source": [
        "pos_doc = df.loc[df['Label'] == 3]\n",
        "pos_doc.to_csv(r'c:\\data\\posetive.txt', header=None, index=None, sep='\\t', mode='a')\n",
        "df.to_csv(r'c:\\data\\df.txt', header=None, index=None, sep='\\t', mode='a')\n",
        "pos_Doc_v = Vocabulary('pos_doc_v')\n",
        "\n",
        "for x in pos_doc.index:\n",
        "    #print(x)\n",
        "    text = pos_doc.loc[x, \"Comment\"]\n",
        "    #print(text)\n",
        "    pos_Doc_v.add_sentence(text)\n",
        "pos_doc.head(10)\n",
        "\n",
        "\n",
        "\n",
        "print(f\"number of sentences in whole document = {pos_Doc_v.num_sentences}\")\n",
        "print(f'number of unique word in whole document = {pos_Doc_v.num_words}')\n",
        "\n",
        "\n",
        "\n",
        "sortedL_pos_Doc=sorted(pos_Doc_v.word2count.items(), key=lambda kv:\n",
        "                 ( kv[1] , kv[0]))\n",
        "\n",
        "\n",
        "vocab_pos=[ sortedL_pos_Doc[i][0]  for i in range(len(sortedL_pos_Doc)) ]\n",
        "vector_pos=[ sortedL_pos_Doc[i][1]  for i in range(len(sortedL_pos_Doc)) ]\n",
        "print(sortedL_pos_Doc)"
      ],
      "metadata": {
        "colab": {
          "base_uri": "https://localhost:8080/"
        },
        "id": "rHTcHtWVzpSb",
        "outputId": "e3bd3746-9f2c-42ee-884c-7193c9837fff"
      },
      "execution_count": 156,
      "outputs": [
        {
          "output_type": "stream",
          "name": "stdout",
          "text": [
            "number of sentences in whole document = 85\n",
            "number of unique word in whole document = 239\n",
            "[('آب', 1), ('آشنا', 1), ('اجازه', 1), ('احترام', 1), ('اختصاص', 1), ('اخلاق', 1), ('ادب', 1), ('اذیت', 1), ('ارتباطی', 1), ('ارزیابی', 1), ('ارشد', 1), ('ازمایشگاه', 1), ('ازمایشگاهیش', 1), ('ازمایشگاه\\u200cها', 1), ('اساتیدکمک', 1), ('اساس', 1), ('استاد', 1), ('استادام', 1), ('اطلاع', 1), ('التحصیلی', 1), ('العادست', 1), ('اموزش', 1), ('امکان', 1), ('انشجو', 1), ('اول', 1), ('ایجاد', 1), ('باسواد', 1), ('باشه', 1), ('باعث', 1), ('باغچه\\u200cها', 1), ('باه', 1), ('بدک', 1), ('برا', 1), ('برق', 1), ('برقراری', 1), ('برگزار', 1), ('بزرگ', 1), ('بزرگه', 1), ('بستگی', 1), ('بهتره', 1), ('بهترین', 1), ('بودنشو', 1), ('بوفه\\u200cها', 1), ('بپردازد', 1), ('تجربه\\u200cهای', 1), ('تحقیقات', 1), ('تخصی', 1), ('ترجیحش', 1), ('تعریف', 1), ('تعطیل', 1), ('تفاوت', 1), ('تمیزه', 1), ('تهران', 1), ('توجه', 1), ('تکنولوژیهای', 1), ('جوان', 1), ('حراست', 1), ('حضور', 1), ('حقیقتا', 1), ('حوزه', 1), ('خاصی', 1), ('خودشون', 1), ('خی', 1), ('داریم', 1), ('دانش', 1), ('دانشجوی', 1), ('دانشجو\\u200cها', 1), ('دانشگاهای', 1), ('دانشگاه\\u200cها', 1), ('دسترسی', 1), ('دقیقا', 1), ('دلسوزی', 1), ('دم', 1), ('دوست', 1), ('دوستی', 1), ('دکتری', 1), ('رابطه\\u200cهای', 1), ('راحت\\u200cتر', 1), ('راه\\u200cهای', 1), ('رسانی', 1), ('رستوران', 1), ('رشته', 1), ('رشته\\u200cهای', 1), ('رضایت', 1), ('رقابت', 1), ('روش\\u200cهای', 1), ('زمان', 1), ('زمان\\u200cهای', 1), ('زیادی', 1), ('زیبا', 1), ('سالم', 1), ('سبز', 1), ('سخته', 1), ('سر', 1), ('سرسبز', 1), ('سرسبزه', 1), ('سلف', 1), ('شرایطم', 1), ('شرکت\\u200cها', 1), ('طبیعت', 1), ('طریقه', 1), ('عرض', 1), ('علاقه', 1), ('عمل', 1), ('غذای', 1), ('غذا\\u200cها', 1), ('غذا\\u200cهای', 1), ('فارغ', 1), ('فراهم', 1), ('فراوان', 1), ('فرهنگی', 1), ('فوق', 1), ('فیلدها', 1), ('قایل', 1), ('قسمت\\u200cها', 1), ('قشنگی', 1), ('قیمت', 1), ('لوکس', 1), ('متفاوت', 1), ('متنوع', 1), ('مجازی', 1), ('محوطه', 1), ('مرکزی', 1), ('مسئول', 1), ('مسئولیت', 1), ('مسائل', 1), ('مفیدی', 1), ('مناسبی', 1), ('منم', 1), ('مهربان', 1), ('مواقع', 1), ('مورد', 1), ('موضوعات', 1), ('مید', 1), ('می\\u200cباشد', 1), ('می\\u200cرسند', 1), ('می\\u200cکنه', 1), ('ندید', 1), ('نسبت', 1), ('نمرات', 1), ('نمیدهند', 1), ('نمی\\u200cکند', 1), ('نگذریم', 1), ('نگهبانان', 1), ('هستن', 1), ('هسونه', 1), ('همایش\\u200cهای', 1), ('هواش', 1), ('هواشم', 1), ('وام\\u200cهای', 1), ('ودرسخوان', 1), ('پذیر', 1), ('پر', 1), ('پروژه\\u200cهای', 1), ('پروژکتور\\u200cهای', 1), ('پنجشنبه\\u200cها', 1), ('پوژه\\u200cهای', 1), ('پیتزاش', 1), ('پیشرفته', 1), ('ک', 1), ('کاراموزی', 1), ('کارکن', 1), ('کارکنان', 1), ('کافی', 1), ('کل', 1), ('کیفیت', 1), ('کیفیتشون', 1), ('گرایش\\u200cها', 1), ('گیر', 1), ('آموزشی', 2), ('اساتیدی', 2), ('انجام', 2), ('اندازه', 2), ('اهمیت', 2), ('بالاس', 2), ('بزرگی', 2), ('بعد', 2), ('بیشتر', 2), ('تحصیل', 2), ('تحقیق', 2), ('تعداد', 2), ('تلاش', 2), ('تمام', 2), ('جا', 2), ('حق', 2), ('خوش', 2), ('دانشجو\\u200cهای', 2), ('دلسوز', 2), ('دوستانه', 2), ('رابطه', 2), ('شهید', 2), ('صنعت', 2), ('صنعتی', 2), ('عالی', 2), ('علمی', 2), ('غذا', 2), ('لحاظ', 2), ('محل', 2), ('مختلف', 2), ('مدیریت', 2), ('مسئولین', 2), ('موضوع', 2), ('می\\u200cکند', 2), ('ورزشی', 2), ('ورود', 2), ('کاری', 2), ('کمک', 2), ('ی', 2), ('یک', 2), ('یکی', 2), ('آموزش', 3), ('ارتباط', 3), ('ازمایشگاه\\u200cهای', 3), ('برخورد', 3), ('بسیار', 3), ('رفتار', 3), ('روز', 3), ('سطح', 3), ('شبانه', 3), ('می\\u200cدهند', 3), ('می\\u200cشود', 3), ('پردیس', 3), ('کردم', 3), ('کلاس\\u200cها', 3), ('انتخاب', 4), ('دانشجو', 4), ('امکانات', 5), ('بوفه', 5), ('تنوع', 5), ('خوبی', 5), ('راضی', 5), ('عالیه', 5), ('دانشجویان', 7), ('فضای', 8), ('مناسب', 10), ('اساتید', 21)]\n"
          ]
        }
      ]
    },
    {
      "cell_type": "markdown",
      "source": [
        "**Counting number of unic words in whole dataset, negative and posetive data**"
      ],
      "metadata": {
        "id": "JajuvF1JcGfn"
      }
    },
    {
      "cell_type": "code",
      "source": [
        "N_Fre_w = vocab[560:]\n",
        "new_df = pd.DataFrame(dict([  (w,[0,0,0 ])  for w in N_Fre_w ]))\n",
        "new_df.iloc[0]=[ voc_Doc.word2count[i]  for i in new_df.columns.values.tolist()]\n"
      ],
      "metadata": {
        "id": "SnJ86CwS4HdV"
      },
      "execution_count": 123,
      "outputs": []
    },
    {
      "cell_type": "code",
      "source": [
        "from numpy.ma.core import append\n",
        "\n",
        "ll=[]\n",
        "for i in new_df.columns.values.tolist():\n",
        "\n",
        "  if i not in pos_Doc_v.word2count.keys():\n",
        "    ll.append(0)\n",
        "  else:\n",
        "    ll.append(pos_Doc_v.word2count[i])\n",
        "\n",
        "\n",
        "new_df.iloc[1]=ll"
      ],
      "metadata": {
        "id": "OpU6YRJ6ZQy_"
      },
      "execution_count": 124,
      "outputs": []
    },
    {
      "cell_type": "code",
      "source": [
        "from numpy.ma.core import append\n",
        "\n",
        "ll=[]\n",
        "for i in new_df.columns.values.tolist():\n",
        "\n",
        "  if i not in neg_Doc_v.word2count.keys():\n",
        "    ll.append(0)\n",
        "  else:\n",
        "    ll.append(neg_Doc_v.word2count[i])\n",
        "\n",
        "\n",
        "new_df.iloc[2]=ll"
      ],
      "metadata": {
        "id": "gFa9g60GZXHN"
      },
      "execution_count": 125,
      "outputs": []
    },
    {
      "cell_type": "code",
      "source": [
        "\n",
        "new_df"
      ],
      "metadata": {
        "colab": {
          "base_uri": "https://localhost:8080/",
          "height": 143
        },
        "id": "a7pAQfT_FpQz",
        "outputId": "6cf8072e-4933-4b36-879a-c693f3fac9ff"
      },
      "execution_count": 127,
      "outputs": [
        {
          "output_type": "execute_result",
          "data": {
            "text/plain": [
              "   سخت  شیب  مسئولین  انتخاب  می‌کند  کیفیت  تنوع  غذای  آموزش  فضای  امکانات  \\\n",
              "0    6    6        6       7       7      7     8     8      9     9       10   \n",
              "1    0    0        2       4       2      1     5     1      3     8        5   \n",
              "2    6    6        4       3       5      6     3     7      6     1        5   \n",
              "\n",
              "   سلف  دانشجو‌ها  قوانین  دانشجو  مناسب  دانشجویان  راضی  غذا  اساتید  \n",
              "0   10         11      11      12     14         15    15   15      40  \n",
              "1    1          1       0       4     10          7     5    2      21  \n",
              "2    9         10      10       8      4          8    10   13      19  "
            ],
            "text/html": [
              "\n",
              "  <div id=\"df-874da57c-af5f-4b97-b6b4-20ed569f8aca\">\n",
              "    <div class=\"colab-df-container\">\n",
              "      <div>\n",
              "<style scoped>\n",
              "    .dataframe tbody tr th:only-of-type {\n",
              "        vertical-align: middle;\n",
              "    }\n",
              "\n",
              "    .dataframe tbody tr th {\n",
              "        vertical-align: top;\n",
              "    }\n",
              "\n",
              "    .dataframe thead th {\n",
              "        text-align: right;\n",
              "    }\n",
              "</style>\n",
              "<table border=\"1\" class=\"dataframe\">\n",
              "  <thead>\n",
              "    <tr style=\"text-align: right;\">\n",
              "      <th></th>\n",
              "      <th>سخت</th>\n",
              "      <th>شیب</th>\n",
              "      <th>مسئولین</th>\n",
              "      <th>انتخاب</th>\n",
              "      <th>می‌کند</th>\n",
              "      <th>کیفیت</th>\n",
              "      <th>تنوع</th>\n",
              "      <th>غذای</th>\n",
              "      <th>آموزش</th>\n",
              "      <th>فضای</th>\n",
              "      <th>امکانات</th>\n",
              "      <th>سلف</th>\n",
              "      <th>دانشجو‌ها</th>\n",
              "      <th>قوانین</th>\n",
              "      <th>دانشجو</th>\n",
              "      <th>مناسب</th>\n",
              "      <th>دانشجویان</th>\n",
              "      <th>راضی</th>\n",
              "      <th>غذا</th>\n",
              "      <th>اساتید</th>\n",
              "    </tr>\n",
              "  </thead>\n",
              "  <tbody>\n",
              "    <tr>\n",
              "      <th>0</th>\n",
              "      <td>6</td>\n",
              "      <td>6</td>\n",
              "      <td>6</td>\n",
              "      <td>7</td>\n",
              "      <td>7</td>\n",
              "      <td>7</td>\n",
              "      <td>8</td>\n",
              "      <td>8</td>\n",
              "      <td>9</td>\n",
              "      <td>9</td>\n",
              "      <td>10</td>\n",
              "      <td>10</td>\n",
              "      <td>11</td>\n",
              "      <td>11</td>\n",
              "      <td>12</td>\n",
              "      <td>14</td>\n",
              "      <td>15</td>\n",
              "      <td>15</td>\n",
              "      <td>15</td>\n",
              "      <td>40</td>\n",
              "    </tr>\n",
              "    <tr>\n",
              "      <th>1</th>\n",
              "      <td>0</td>\n",
              "      <td>0</td>\n",
              "      <td>2</td>\n",
              "      <td>4</td>\n",
              "      <td>2</td>\n",
              "      <td>1</td>\n",
              "      <td>5</td>\n",
              "      <td>1</td>\n",
              "      <td>3</td>\n",
              "      <td>8</td>\n",
              "      <td>5</td>\n",
              "      <td>1</td>\n",
              "      <td>1</td>\n",
              "      <td>0</td>\n",
              "      <td>4</td>\n",
              "      <td>10</td>\n",
              "      <td>7</td>\n",
              "      <td>5</td>\n",
              "      <td>2</td>\n",
              "      <td>21</td>\n",
              "    </tr>\n",
              "    <tr>\n",
              "      <th>2</th>\n",
              "      <td>6</td>\n",
              "      <td>6</td>\n",
              "      <td>4</td>\n",
              "      <td>3</td>\n",
              "      <td>5</td>\n",
              "      <td>6</td>\n",
              "      <td>3</td>\n",
              "      <td>7</td>\n",
              "      <td>6</td>\n",
              "      <td>1</td>\n",
              "      <td>5</td>\n",
              "      <td>9</td>\n",
              "      <td>10</td>\n",
              "      <td>10</td>\n",
              "      <td>8</td>\n",
              "      <td>4</td>\n",
              "      <td>8</td>\n",
              "      <td>10</td>\n",
              "      <td>13</td>\n",
              "      <td>19</td>\n",
              "    </tr>\n",
              "  </tbody>\n",
              "</table>\n",
              "</div>\n",
              "      <button class=\"colab-df-convert\" onclick=\"convertToInteractive('df-874da57c-af5f-4b97-b6b4-20ed569f8aca')\"\n",
              "              title=\"Convert this dataframe to an interactive table.\"\n",
              "              style=\"display:none;\">\n",
              "        \n",
              "  <svg xmlns=\"http://www.w3.org/2000/svg\" height=\"24px\"viewBox=\"0 0 24 24\"\n",
              "       width=\"24px\">\n",
              "    <path d=\"M0 0h24v24H0V0z\" fill=\"none\"/>\n",
              "    <path d=\"M18.56 5.44l.94 2.06.94-2.06 2.06-.94-2.06-.94-.94-2.06-.94 2.06-2.06.94zm-11 1L8.5 8.5l.94-2.06 2.06-.94-2.06-.94L8.5 2.5l-.94 2.06-2.06.94zm10 10l.94 2.06.94-2.06 2.06-.94-2.06-.94-.94-2.06-.94 2.06-2.06.94z\"/><path d=\"M17.41 7.96l-1.37-1.37c-.4-.4-.92-.59-1.43-.59-.52 0-1.04.2-1.43.59L10.3 9.45l-7.72 7.72c-.78.78-.78 2.05 0 2.83L4 21.41c.39.39.9.59 1.41.59.51 0 1.02-.2 1.41-.59l7.78-7.78 2.81-2.81c.8-.78.8-2.07 0-2.86zM5.41 20L4 18.59l7.72-7.72 1.47 1.35L5.41 20z\"/>\n",
              "  </svg>\n",
              "      </button>\n",
              "      \n",
              "  <style>\n",
              "    .colab-df-container {\n",
              "      display:flex;\n",
              "      flex-wrap:wrap;\n",
              "      gap: 12px;\n",
              "    }\n",
              "\n",
              "    .colab-df-convert {\n",
              "      background-color: #E8F0FE;\n",
              "      border: none;\n",
              "      border-radius: 50%;\n",
              "      cursor: pointer;\n",
              "      display: none;\n",
              "      fill: #1967D2;\n",
              "      height: 32px;\n",
              "      padding: 0 0 0 0;\n",
              "      width: 32px;\n",
              "    }\n",
              "\n",
              "    .colab-df-convert:hover {\n",
              "      background-color: #E2EBFA;\n",
              "      box-shadow: 0px 1px 2px rgba(60, 64, 67, 0.3), 0px 1px 3px 1px rgba(60, 64, 67, 0.15);\n",
              "      fill: #174EA6;\n",
              "    }\n",
              "\n",
              "    [theme=dark] .colab-df-convert {\n",
              "      background-color: #3B4455;\n",
              "      fill: #D2E3FC;\n",
              "    }\n",
              "\n",
              "    [theme=dark] .colab-df-convert:hover {\n",
              "      background-color: #434B5C;\n",
              "      box-shadow: 0px 1px 3px 1px rgba(0, 0, 0, 0.15);\n",
              "      filter: drop-shadow(0px 1px 2px rgba(0, 0, 0, 0.3));\n",
              "      fill: #FFFFFF;\n",
              "    }\n",
              "  </style>\n",
              "\n",
              "      <script>\n",
              "        const buttonEl =\n",
              "          document.querySelector('#df-874da57c-af5f-4b97-b6b4-20ed569f8aca button.colab-df-convert');\n",
              "        buttonEl.style.display =\n",
              "          google.colab.kernel.accessAllowed ? 'block' : 'none';\n",
              "\n",
              "        async function convertToInteractive(key) {\n",
              "          const element = document.querySelector('#df-874da57c-af5f-4b97-b6b4-20ed569f8aca');\n",
              "          const dataTable =\n",
              "            await google.colab.kernel.invokeFunction('convertToInteractive',\n",
              "                                                     [key], {});\n",
              "          if (!dataTable) return;\n",
              "\n",
              "          const docLinkHtml = 'Like what you see? Visit the ' +\n",
              "            '<a target=\"_blank\" href=https://colab.research.google.com/notebooks/data_table.ipynb>data table notebook</a>'\n",
              "            + ' to learn more about interactive tables.';\n",
              "          element.innerHTML = '';\n",
              "          dataTable['output_type'] = 'display_data';\n",
              "          await google.colab.output.renderOutput(dataTable, element);\n",
              "          const docLink = document.createElement('div');\n",
              "          docLink.innerHTML = docLinkHtml;\n",
              "          element.appendChild(docLink);\n",
              "        }\n",
              "      </script>\n",
              "    </div>\n",
              "  </div>\n",
              "  "
            ]
          },
          "metadata": {},
          "execution_count": 127
        }
      ]
    },
    {
      "cell_type": "markdown",
      "source": [
        "**Plot distribution of each word in posetive and negative data**"
      ],
      "metadata": {
        "id": "l3hDfUfacg94"
      }
    },
    {
      "cell_type": "code",
      "source": [
        "cnt=dict(new_df.loc[1:,\"غذا\"])"
      ],
      "metadata": {
        "id": "Zy0-btuJRIIG"
      },
      "execution_count": 128,
      "outputs": []
    },
    {
      "cell_type": "code",
      "source": [
        "labels = list(cnt.keys())\n",
        "sizes = list(cnt.values())\n",
        "colors = ['#3fba36', '#66b3ff','#ffcc99','#ff9999', '#d44444']\n",
        "fig1, ax1 = plt.subplots()\n",
        "ax1.pie(sizes, labels=labels, colors=colors,\n",
        "        autopct='%1.1f%%', startangle=90)\n",
        "#draw circle\n",
        "centre_circle = plt.Circle((0,0),0.70,fc='white')\n",
        "fig = plt.gcf()\n",
        "fig.gca().add_artist(centre_circle)\n",
        "# Equal aspect ratio ensures that pie is drawn as a circle\n",
        "ax1.axis('equal')  \n",
        "plt.tight_layout()\n",
        "# Decomment following line if you want to save the figure\n",
        "# plt.savefig('distribution.png')\n",
        "plt.show()"
      ],
      "metadata": {
        "colab": {
          "base_uri": "https://localhost:8080/",
          "height": 297
        },
        "id": "8xbhlt0iRdak",
        "outputId": "0cc39294-176e-4ea7-f1b1-a781577331e7"
      },
      "execution_count": 129,
      "outputs": [
        {
          "output_type": "display_data",
          "data": {
            "text/plain": [
              "<Figure size 432x288 with 1 Axes>"
            ],
            "image/png": "[encoded data removed]"
          },
          "metadata": {}
        }
      ]
    },
    {
      "cell_type": "code",
      "source": [
        "for i in new_df.columns.values.tolist():\n",
        "  print(i)\n",
        "  cnt=dict(new_df.loc[1:,i])\n",
        "  labels = list(cnt.keys())\n",
        "  sizes = list(cnt.values())\n",
        "  colors = ['#3fba36', '#66b3ff','#ffcc99','#ff9999', '#d44444']\n",
        "  fig1, ax1 = plt.subplots()\n",
        "  ax1.pie(sizes, labels=labels, colors=colors,\n",
        "          autopct='%1.1f%%', startangle=90)\n",
        "  #draw circle\n",
        "  centre_circle = plt.Circle((0,0),0.70,fc='white')\n",
        "  fig = plt.gcf()\n",
        "  fig.gca().add_artist(centre_circle)\n",
        "  # Equal aspect ratio ensures that pie is drawn as a circle\n",
        "  ax1.axis('equal')  \n",
        "  plt.tight_layout()\n",
        "  # Decomment following line if you want to save the figure\n",
        "  # plt.savefig('distribution.png')\n",
        "  plt.show()"
      ],
      "metadata": {
        "id": "E0F2ZatEQbpG",
        "colab": {
          "base_uri": "https://localhost:8080/",
          "height": 1000
        },
        "outputId": "028824ca-834c-4463-be86-87ea35d5cbf6"
      },
      "execution_count": 130,
      "outputs": [
        {
          "output_type": "stream",
          "name": "stdout",
          "text": [
            "سخت\n"
          ]
        },
        {
          "output_type": "display_data",
          "data": {
            "text/plain": [
              "<Figure size 432x288 with 1 Axes>"
            ],
            "image/png": "[encoded data removed]"
          },
          "metadata": {}
        },
        {
          "output_type": "stream",
          "name": "stdout",
          "text": [
            "شیب\n"
          ]
        },
        {
          "output_type": "display_data",
          "data": {
            "text/plain": [
              "<Figure size 432x288 with 1 Axes>"
            ],
            "image/png": "[encoded data removed]"
          },
          "metadata": {}
        },
        {
          "output_type": "stream",
          "name": "stdout",
          "text": [
            "مسئولین\n"
          ]
        },
        {
          "output_type": "display_data",
          "data": {
            "text/plain": [
              "<Figure size 432x288 with 1 Axes>"
            ],
            "image/png": "[encoded data removed]"
          },
          "metadata": {}
        },
        {
          "output_type": "stream",
          "name": "stdout",
          "text": [
            "انتخاب\n"
          ]
        },
        {
          "output_type": "display_data",
          "data": {
            "text/plain": [
              "<Figure size 432x288 with 1 Axes>"
            ],
            "image/png": "[encoded data removed]"
          },
          "metadata": {}
        },
        {
          "output_type": "stream",
          "name": "stdout",
          "text": [
            "می‌کند\n"
          ]
        },
        {
          "output_type": "display_data",
          "data": {
            "text/plain": [
              "<Figure size 432x288 with 1 Axes>"
            ],
            "image/png": "[encoded data removed]"
          },
          "metadata": {}
        },
        {
          "output_type": "stream",
          "name": "stdout",
          "text": [
            "کیفیت\n"
          ]
        },
        {
          "output_type": "display_data",
          "data": {
            "text/plain": [
              "<Figure size 432x288 with 1 Axes>"
            ],
            "image/png": "[encoded data removed]"
          },
          "metadata": {}
        },
        {
          "output_type": "stream",
          "name": "stdout",
          "text": [
            "تنوع\n"
          ]
        },
        {
          "output_type": "display_data",
          "data": {
            "text/plain": [
              "<Figure size 432x288 with 1 Axes>"
            ],
            "image/png": "[encoded data removed]"
          },
          "metadata": {}
        },
        {
          "output_type": "stream",
          "name": "stdout",
          "text": [
            "غذای\n"
          ]
        },
        {
          "output_type": "display_data",
          "data": {
            "text/plain": [
              "<Figure size 432x288 with 1 Axes>"
            ],
            "image/png": "[encoded data removed]"
          },
          "metadata": {}
        },
        {
          "output_type": "stream",
          "name": "stdout",
          "text": [
            "آموزش\n"
          ]
        },
        {
          "output_type": "display_data",
          "data": {
            "text/plain": [
              "<Figure size 432x288 with 1 Axes>"
            ],
            "image/png": "[encoded data removed]"
          },
          "metadata": {}
        },
        {
          "output_type": "stream",
          "name": "stdout",
          "text": [
            "فضای\n"
          ]
        },
        {
          "output_type": "display_data",
          "data": {
            "text/plain": [
              "<Figure size 432x288 with 1 Axes>"
            ],
            "image/png": "[encoded data removed]"
          },
          "metadata": {}
        },
        {
          "output_type": "stream",
          "name": "stdout",
          "text": [
            "امکانات\n"
          ]
        },
        {
          "output_type": "display_data",
          "data": {
            "text/plain": [
              "<Figure size 432x288 with 1 Axes>"
            ],
            "image/png": "[encoded data removed]"
          },
          "metadata": {}
        },
        {
          "output_type": "stream",
          "name": "stdout",
          "text": [
            "سلف\n"
          ]
        },
        {
          "output_type": "display_data",
          "data": {
            "text/plain": [
              "<Figure size 432x288 with 1 Axes>"
            ],
            "image/png": "[encoded data removed]"
          },
          "metadata": {}
        },
        {
          "output_type": "stream",
          "name": "stdout",
          "text": [
            "دانشجو‌ها\n"
          ]
        },
        {
          "output_type": "display_data",
          "data": {
            "text/plain": [
              "<Figure size 432x288 with 1 Axes>"
            ],
            "image/png": "[encoded data removed]"
          },
          "metadata": {}
        },
        {
          "output_type": "stream",
          "name": "stdout",
          "text": [
            "قوانین\n"
          ]
        },
        {
          "output_type": "display_data",
          "data": {
            "text/plain": [
              "<Figure size 432x288 with 1 Axes>"
            ],
            "image/png": "[encoded data removed]"
          },
          "metadata": {}
        },
        {
          "output_type": "stream",
          "name": "stdout",
          "text": [
            "دانشجو\n"
          ]
        },
        {
          "output_type": "display_data",
          "data": {
            "text/plain": [
              "<Figure size 432x288 with 1 Axes>"
            ],
            "image/png": "[encoded data removed]"
          },
          "metadata": {}
        },
        {
          "output_type": "stream",
          "name": "stdout",
          "text": [
            "مناسب\n"
          ]
        },
        {
          "output_type": "display_data",
          "data": {
            "text/plain": [
              "<Figure size 432x288 with 1 Axes>"
            ],
            "image/png": "[encoded data removed]"
          },
          "metadata": {}
        },
        {
          "output_type": "stream",
          "name": "stdout",
          "text": [
            "دانشجویان\n"
          ]
        },
        {
          "output_type": "display_data",
          "data": {
            "text/plain": [
              "<Figure size 432x288 with 1 Axes>"
            ],
            "image/png": "[encoded data removed]"
          },
          "metadata": {}
        },
        {
          "output_type": "stream",
          "name": "stdout",
          "text": [
            "راضی\n"
          ]
        },
        {
          "output_type": "display_data",
          "data": {
            "text/plain": [
              "<Figure size 432x288 with 1 Axes>"
            ],
            "image/png": "[encoded data removed]"
          },
          "metadata": {}
        },
        {
          "output_type": "stream",
          "name": "stdout",
          "text": [
            "غذا\n"
          ]
        },
        {
          "output_type": "display_data",
          "data": {
            "text/plain": [
              "<Figure size 432x288 with 1 Axes>"
            ],
            "image/png": "[encoded data removed]"
          },
          "metadata": {}
        },
        {
          "output_type": "stream",
          "name": "stdout",
          "text": [
            "اساتید\n"
          ]
        },
        {
          "output_type": "display_data",
          "data": {
            "text/plain": [
              "<Figure size 432x288 with 1 Axes>"
            ],
            "image/png": "[encoded data removed]"
          },
          "metadata": {}
        }
      ]
    },
    {
      "cell_type": "code",
      "source": [
        "def BAR_PLOT(X,Y):\n",
        "  plt.figure(figsize=(40, 10))\n",
        "  plt.title(\"frequent word in document \")\n",
        "  plt.xlabel(\"Category\")\n",
        "  plt.ylabel(\"Number of word in document \")\n",
        "  plt.xticks(rotation=90)\n",
        "  sns.barplot(X, Y)\n",
        "  plt.show()\n"
      ],
      "metadata": {
        "id": "lsz6yc44XIiA"
      },
      "execution_count": 131,
      "outputs": []
    },
    {
      "cell_type": "code",
      "source": [
        "BAR_PLOT(vocab[570:],vector[570:])"
      ],
      "metadata": {
        "colab": {
          "base_uri": "https://localhost:8080/",
          "height": 341
        },
        "id": "RE3KOeaOaMJb",
        "outputId": "fc9ce0ed-e192-40d0-ff31-3864b4ec103a"
      },
      "execution_count": 134,
      "outputs": [
        {
          "output_type": "stream",
          "name": "stderr",
          "text": [
            "/usr/local/lib/python3.7/dist-packages/seaborn/_decorators.py:43: FutureWarning: Pass the following variables as keyword args: x, y. From version 0.12, the only valid positional argument will be `data`, and passing other arguments without an explicit keyword will result in an error or misinterpretation.\n",
            "  FutureWarning\n"
          ]
        },
        {
          "output_type": "display_data",
          "data": {
            "text/plain": [
              "<Figure size 2880x720 with 1 Axes>"
            ],
            "image/png": "[encoded data removed]"
          },
          "metadata": {
            "needs_background": "light"
          }
        }
      ]
    },
    {
      "cell_type": "code",
      "source": [
        "BAR_PLOT(vocab_pos[210:],vector_pos[210:])"
      ],
      "metadata": {
        "colab": {
          "base_uri": "https://localhost:8080/",
          "height": 346
        },
        "id": "H7uauZrMbnta",
        "outputId": "76445daf-2639-4479-db61-08f838463853"
      },
      "execution_count": 86,
      "outputs": [
        {
          "output_type": "stream",
          "name": "stderr",
          "text": [
            "/usr/local/lib/python3.7/dist-packages/seaborn/_decorators.py:43: FutureWarning: Pass the following variables as keyword args: x, y. From version 0.12, the only valid positional argument will be `data`, and passing other arguments without an explicit keyword will result in an error or misinterpretation.\n",
            "  FutureWarning\n"
          ]
        },
        {
          "output_type": "display_data",
          "data": {
            "text/plain": [
              "<Figure size 2880x720 with 1 Axes>"
            ],
            "image/png": "[encoded data removed]"
          },
          "metadata": {
            "needs_background": "light"
          }
        }
      ]
    },
    {
      "cell_type": "code",
      "source": [
        "BAR_PLOT(vocab_neg[210:],vector_neg[210:])"
      ],
      "metadata": {
        "colab": {
          "base_uri": "https://localhost:8080/",
          "height": 347
        },
        "id": "G9cT4bUad22d",
        "outputId": "1080ea2b-e610-412a-9c2f-530751ca7d28"
      },
      "execution_count": 90,
      "outputs": [
        {
          "output_type": "stream",
          "name": "stderr",
          "text": [
            "/usr/local/lib/python3.7/dist-packages/seaborn/_decorators.py:43: FutureWarning: Pass the following variables as keyword args: x, y. From version 0.12, the only valid positional argument will be `data`, and passing other arguments without an explicit keyword will result in an error or misinterpretation.\n",
            "  FutureWarning\n"
          ]
        },
        {
          "output_type": "display_data",
          "data": {
            "text/plain": [
              "<Figure size 2880x720 with 1 Axes>"
            ],
            "image/png": "[encoded data removed]"
          },
          "metadata": {
            "needs_background": "light"
          }
        }
      ]
    },
    {
      "cell_type": "markdown",
      "source": [
        "**Word** **Clouds**"
      ],
      "metadata": {
        "id": "WX0khO0sAiiD"
      }
    },
    {
      "cell_type": "code",
      "source": [
        "!pip install persian_wordcloud\n",
        "!pip install wordcloud-fa\n",
        "!sudo apt-get install python3-dev"
      ],
      "metadata": {
        "colab": {
          "base_uri": "https://localhost:8080/"
        },
        "id": "QEf7ayc81_qV",
        "outputId": "63e71f54-6e6e-4a66-de73-9074a59a69ef"
      },
      "execution_count": 139,
      "outputs": [
        {
          "output_type": "stream",
          "name": "stdout",
          "text": [
            "Looking in indexes: https://pypi.org/simple, https://us-python.pkg.dev/colab-wheels/public/simple/\n",
            "Collecting persian_wordcloud\n",
            "  Downloading persian_wordcloud-1.3.1.tar.gz (65 kB)\n",
            "\u001b[K     |████████████████████████████████| 65 kB 3.5 MB/s \n",
            "\u001b[?25hCollecting arabic_reshaper\n",
            "  Downloading arabic_reshaper-2.1.3-py3-none-any.whl (20 kB)\n",
            "Collecting python-bidi\n",
            "  Downloading python_bidi-0.4.2-py2.py3-none-any.whl (30 kB)\n",
            "Requirement already satisfied: wordcloud in /usr/local/lib/python3.7/dist-packages (from persian_wordcloud) (1.5.0)\n",
            "Requirement already satisfied: setuptools in /usr/local/lib/python3.7/dist-packages (from arabic_reshaper->persian_wordcloud) (57.4.0)\n",
            "Requirement already satisfied: future in /usr/local/lib/python3.7/dist-packages (from arabic_reshaper->persian_wordcloud) (0.16.0)\n",
            "Requirement already satisfied: six in /usr/local/lib/python3.7/dist-packages (from python-bidi->persian_wordcloud) (1.15.0)\n",
            "Requirement already satisfied: pillow in /usr/local/lib/python3.7/dist-packages (from wordcloud->persian_wordcloud) (7.1.2)\n",
            "Requirement already satisfied: numpy>=1.6.1 in /usr/local/lib/python3.7/dist-packages (from wordcloud->persian_wordcloud) (1.21.6)\n",
            "Building wheels for collected packages: persian-wordcloud\n",
            "  Building wheel for persian-wordcloud (setup.py) ... \u001b[?25l\u001b[?25hdone\n",
            "  Created wheel for persian-wordcloud: filename=persian_wordcloud-1.3.1-py3-none-any.whl size=65942 sha256=5cd6ce9ca878abe3f2e9aafdd6e96a6c43a6b37bad10c0a3791bf56b42aab430\n",
            "  Stored in directory: /root/.cache/pip/wheels/5f/84/30/3f71371632c768bc2a5679e72db807c9b60bc890661f6fbde5\n",
            "Successfully built persian-wordcloud\n",
            "Installing collected packages: python-bidi, arabic-reshaper, persian-wordcloud\n",
            "Successfully installed arabic-reshaper-2.1.3 persian-wordcloud-1.3.1 python-bidi-0.4.2\n",
            "Looking in indexes: https://pypi.org/simple, https://us-python.pkg.dev/colab-wheels/public/simple/\n",
            "Collecting wordcloud-fa\n",
            "  Downloading wordcloud_fa-0.1.9-py2.py3-none-any.whl (71 kB)\n",
            "\u001b[K     |████████████████████████████████| 71 kB 4.9 MB/s \n",
            "\u001b[?25hRequirement already satisfied: matplotlib>=3.1.2 in /usr/local/lib/python3.7/dist-packages (from wordcloud-fa) (3.2.2)\n",
            "Requirement already satisfied: numpy>=1.18.1 in /usr/local/lib/python3.7/dist-packages (from wordcloud-fa) (1.21.6)\n",
            "Collecting wordcloud==1.8.1\n",
            "  Downloading wordcloud-1.8.1-cp37-cp37m-manylinux1_x86_64.whl (366 kB)\n",
            "\u001b[K     |████████████████████████████████| 366 kB 16.1 MB/s \n",
            "\u001b[?25hRequirement already satisfied: hazm==0.7.0 in /usr/local/lib/python3.7/dist-packages (from wordcloud-fa) (0.7.0)\n",
            "Requirement already satisfied: pillow>=7.0.0 in /usr/local/lib/python3.7/dist-packages (from wordcloud-fa) (7.1.2)\n",
            "Requirement already satisfied: arabic-reshaper>=2.1.3 in /usr/local/lib/python3.7/dist-packages (from wordcloud-fa) (2.1.3)\n",
            "Requirement already satisfied: python-bidi==0.4.2 in /usr/local/lib/python3.7/dist-packages (from wordcloud-fa) (0.4.2)\n",
            "Requirement already satisfied: libwapiti>=0.2.1 in /usr/local/lib/python3.7/dist-packages (from hazm==0.7.0->wordcloud-fa) (0.2.1)\n",
            "Requirement already satisfied: nltk==3.3 in /usr/local/lib/python3.7/dist-packages (from hazm==0.7.0->wordcloud-fa) (3.3)\n",
            "Requirement already satisfied: six in /usr/local/lib/python3.7/dist-packages (from nltk==3.3->hazm==0.7.0->wordcloud-fa) (1.15.0)\n",
            "Requirement already satisfied: future in /usr/local/lib/python3.7/dist-packages (from arabic-reshaper>=2.1.3->wordcloud-fa) (0.16.0)\n",
            "Requirement already satisfied: setuptools in /usr/local/lib/python3.7/dist-packages (from arabic-reshaper>=2.1.3->wordcloud-fa) (57.4.0)\n",
            "Requirement already satisfied: cycler>=0.10 in /usr/local/lib/python3.7/dist-packages (from matplotlib>=3.1.2->wordcloud-fa) (0.11.0)\n",
            "Requirement already satisfied: python-dateutil>=2.1 in /usr/local/lib/python3.7/dist-packages (from matplotlib>=3.1.2->wordcloud-fa) (2.8.2)\n",
            "Requirement already satisfied: pyparsing!=2.0.4,!=2.1.2,!=2.1.6,>=2.0.1 in /usr/local/lib/python3.7/dist-packages (from matplotlib>=3.1.2->wordcloud-fa) (3.0.9)\n",
            "Requirement already satisfied: kiwisolver>=1.0.1 in /usr/local/lib/python3.7/dist-packages (from matplotlib>=3.1.2->wordcloud-fa) (1.4.3)\n",
            "Requirement already satisfied: typing-extensions in /usr/local/lib/python3.7/dist-packages (from kiwisolver>=1.0.1->matplotlib>=3.1.2->wordcloud-fa) (4.1.1)\n",
            "Installing collected packages: wordcloud, wordcloud-fa\n",
            "  Attempting uninstall: wordcloud\n",
            "    Found existing installation: wordcloud 1.5.0\n",
            "    Uninstalling wordcloud-1.5.0:\n",
            "      Successfully uninstalled wordcloud-1.5.0\n",
            "Successfully installed wordcloud-1.8.1 wordcloud-fa-0.1.9\n",
            "Reading package lists... Done\n",
            "Building dependency tree       \n",
            "Reading state information... Done\n",
            "python3-dev is already the newest version (3.6.7-1~18.04).\n",
            "python3-dev set to manually installed.\n",
            "The following package was automatically installed and is no longer required:\n",
            "  libnvidia-common-460\n",
            "Use 'sudo apt autoremove' to remove it.\n",
            "0 upgraded, 0 newly installed, 0 to remove and 49 not upgraded.\n"
          ]
        }
      ]
    },
    {
      "cell_type": "code",
      "source": [
        "from wordcloud_fa import WordCloudFa\n",
        "\n",
        "wodcloud = WordCloudFa(no_reshape=False, persian_normalize=True, include_numbers=False, collocations=False, width=800, height=400)\n",
        "\n",
        "with open('/content/sample_data/c__data_df.txt', 'r') as file:\n",
        "\n",
        "     text = file.read()\n",
        "\n",
        "\n",
        "\n",
        "wc = wodcloud.generate(text)\n",
        "image = wc.to_image()\n",
        "image.show()\n",
        "image.save('dfdata.png')"
      ],
      "metadata": {
        "id": "_yoGKr_r6Vj_"
      },
      "execution_count": 161,
      "outputs": []
    },
    {
      "cell_type": "code",
      "source": [
        "from wordcloud_fa import WordCloudFa\n",
        "\n",
        "wodcloud = WordCloudFa(no_reshape=False, persian_normalize=True, include_numbers=False, collocations=False, width=800, height=400)\n",
        "\n",
        "with open('/content/sample_data/c__data_posetive (2).txt', 'r') as file:\n",
        "\n",
        "     text = file.read()\n",
        "\n",
        "\n",
        "\n",
        "wc = wodcloud.generate(text)\n",
        "image = wc.to_image()\n",
        "image.show()\n",
        "image.save('posdata.png')"
      ],
      "metadata": {
        "id": "0ZQikpJu8mLS"
      },
      "execution_count": 162,
      "outputs": []
    },
    {
      "cell_type": "code",
      "source": [
        "from wordcloud_fa import WordCloudFa\n",
        "\n",
        "wodcloud = WordCloudFa(no_reshape=False, persian_normalize=True, include_numbers=False, collocations=False, width=800, height=400)\n",
        "#text = \"سلام\"\n",
        "with open('/content/sample_data/c__data_negative (1).txt', 'r') as file:\n",
        "\n",
        "     text = file.read()\n",
        "\n",
        "wc = wodcloud.generate(text)\n",
        "image = wc.to_image()\n",
        "image.show()\n",
        "image.save('negdata.png')"
      ],
      "metadata": {
        "id": "letBIOva8mxL"
      },
      "execution_count": 158,
      "outputs": []
    },
    {
      "cell_type": "markdown",
      "source": [
        "**TFIDF**"
      ],
      "metadata": {
        "id": "5kpITHl88LyU"
      }
    },
    {
      "cell_type": "code",
      "source": [
        "#Define a function to calculate Term Frequency\n",
        "#Term Frequency\n",
        "def termfreq(document, word):\n",
        "    \n",
        "    N = len(document.split())\n",
        "    #print(N)\n",
        "    occurance = len([token for token in document.split() if token == word])\n",
        "    return occurance/N"
      ],
      "metadata": {
        "id": "5-h2LhKf8Ope"
      },
      "execution_count": 144,
      "outputs": []
    },
    {
      "cell_type": "code",
      "source": [
        "#Inverse Document Frequency\n",
        "#Define a function calculate Inverse Document Frequency         neg_Doc_v.word2count\n",
        "def inverse_doc_freq(word,doc):\n",
        "    try:\n",
        "        word_occurance = doc.word2count[word] + 1\n",
        "    except:\n",
        "        word_occurance = 1\n",
        "    return np.log(doc.num_sentences/word_occurance)"
      ],
      "metadata": {
        "id": "eRYYd78b8XQR"
      },
      "execution_count": 145,
      "outputs": []
    },
    {
      "cell_type": "code",
      "source": [
        "#Combining the TF-IDF functions\n",
        "\n",
        "def tf_idf(sentence,doc):\n",
        "    tf_idf_vec = np.zeros((doc.num_words,))\n",
        "    for word in sentence.split():\n",
        "        tf = termfreq(sentence,word)\n",
        "        idf = inverse_doc_freq(word,doc)\n",
        "         \n",
        "        value = tf*idf\n",
        "        tf_idf_vec[doc.word2index[word]] = value \n",
        "    return tf_idf_vec"
      ],
      "metadata": {
        "id": "Ck6tdI_n8cSY"
      },
      "execution_count": 146,
      "outputs": []
    },
    {
      "cell_type": "code",
      "source": [
        "#Apply the TF-IDF Model to our text\n",
        "#TF-IDF Encoded text corpus     df.index         df.loc[x, \"Comment\"]\n",
        "vectors = []\n",
        "for x in df.index :\n",
        "    vec = tf_idf(df.loc[x, \"Comment\"],voc_Doc)\n",
        "    vectors.append(vec)\n",
        " \n",
        "print(vectors[40])\n",
        "print(len(vectors))"
      ],
      "metadata": {
        "colab": {
          "base_uri": "https://localhost:8080/"
        },
        "id": "W6jmJ5XX8g2M",
        "outputId": "d253c03a-c78b-4d4e-b452-720bc3372b9e"
      },
      "execution_count": 147,
      "outputs": [
        {
          "output_type": "stream",
          "name": "stdout",
          "text": [
            "[0.         0.         0.         0.         0.         0.\n",
            " 0.         0.         0.         0.         0.         0.\n",
            " 0.         0.         0.         0.         0.         0.\n",
            " 0.         0.         0.         0.         0.         0.\n",
            " 0.         0.         0.         0.         0.         0.\n",
            " 0.         0.         0.         0.         0.         0.\n",
            " 0.         0.         0.         0.         0.         0.\n",
            " 0.         0.         0.         0.         0.         0.\n",
            " 0.         0.         0.         0.         0.         0.\n",
            " 0.         0.         0.         0.         0.         0.\n",
            " 0.         0.         0.         0.         0.         0.\n",
            " 0.         0.         0.         0.         0.         0.\n",
            " 0.         0.         0.         0.         0.         0.\n",
            " 0.         0.         0.         0.         0.         0.\n",
            " 0.         0.         0.         0.         0.         0.\n",
            " 0.         0.         0.         0.         0.         0.\n",
            " 0.         0.         0.         0.         0.         0.\n",
            " 0.         0.         0.         0.         0.         0.\n",
            " 0.         0.         0.         0.         0.         0.\n",
            " 0.         0.         0.         0.         0.         0.\n",
            " 0.         0.         0.         0.         0.         0.\n",
            " 0.         0.         0.         0.         0.         0.\n",
            " 0.         1.01403084 1.18731763 1.08595136 1.08595136 0.\n",
            " 0.         0.         0.         0.         0.         0.\n",
            " 0.         0.         0.         0.         0.         0.\n",
            " 0.         0.         0.         0.         0.         0.\n",
            " 0.         0.         0.         0.         0.         0.\n",
            " 0.         0.         0.         0.         0.         0.\n",
            " 0.         0.         0.         0.         0.         0.\n",
            " 0.         0.         0.         0.         0.         0.\n",
            " 0.         0.         0.         0.         0.         0.\n",
            " 0.         0.         0.         0.         0.         0.\n",
            " 0.         0.         0.         0.         0.         0.\n",
            " 0.         0.         0.         0.         0.         0.\n",
            " 0.         0.         0.         0.         0.         0.\n",
            " 0.         0.         0.         0.         0.         0.\n",
            " 0.         0.         0.         0.         0.         0.\n",
            " 0.         0.         0.         0.         0.         0.\n",
            " 0.         0.         0.         0.         0.         0.\n",
            " 0.         0.         0.         0.         0.         0.\n",
            " 0.         0.         0.         0.         0.         0.\n",
            " 0.         0.         0.         0.         0.         0.\n",
            " 0.         0.         0.         0.         0.         0.\n",
            " 0.         0.         0.         0.         0.         0.\n",
            " 0.         0.         0.         0.         0.         0.\n",
            " 0.         0.         0.         0.         0.         0.\n",
            " 0.         0.         0.         0.         0.         0.\n",
            " 0.         0.         0.         0.         0.         0.\n",
            " 0.         0.         0.         0.         0.         0.\n",
            " 0.         0.         0.         0.         0.         0.\n",
            " 0.         0.         0.         0.         0.         0.\n",
            " 0.         0.         0.         0.         0.         0.\n",
            " 0.         0.         0.         0.         0.         0.\n",
            " 0.         0.         0.         0.         0.         0.\n",
            " 0.         0.         0.         0.         0.         0.\n",
            " 0.         0.         0.         0.         0.         0.\n",
            " 0.         0.         0.         0.         0.         0.\n",
            " 0.         0.         0.         0.         0.         0.\n",
            " 0.         0.         0.         0.         0.         0.\n",
            " 0.         0.         0.         0.         0.         0.\n",
            " 0.         0.         0.         0.         0.         0.\n",
            " 0.         0.         0.         0.         0.         0.\n",
            " 0.         0.         0.         0.         0.         0.\n",
            " 0.         0.         0.         0.         0.         0.\n",
            " 0.         0.         0.         0.         0.         0.\n",
            " 0.         0.         0.         0.         0.         0.\n",
            " 0.         0.         0.         0.         0.         0.\n",
            " 0.         0.         0.         0.         0.         0.\n",
            " 0.         0.         0.         0.         0.         0.\n",
            " 0.         0.         0.         0.         0.         0.\n",
            " 0.         0.         0.         0.         0.         0.\n",
            " 0.         0.         0.         0.         0.         0.\n",
            " 0.         0.         0.         0.         0.         0.\n",
            " 0.         0.         0.         0.         0.         0.\n",
            " 0.         0.         0.         0.         0.         0.\n",
            " 0.         0.         0.         0.         0.         0.\n",
            " 0.         0.         0.         0.         0.         0.\n",
            " 0.         0.         0.         0.         0.         0.\n",
            " 0.         0.         0.         0.         0.         0.\n",
            " 0.         0.         0.         0.         0.         0.\n",
            " 0.         0.         0.         0.         0.         0.\n",
            " 0.         0.         0.         0.         0.         0.\n",
            " 0.         0.         0.         0.         0.         0.\n",
            " 0.         0.         0.         0.         0.         0.\n",
            " 0.         0.         0.         0.         0.         0.\n",
            " 0.         0.         0.         0.         0.         0.\n",
            " 0.         0.         0.         0.         0.         0.\n",
            " 0.         0.         0.         0.         0.         0.\n",
            " 0.         0.         0.         0.         0.         0.\n",
            " 0.         0.         0.         0.         0.         0.\n",
            " 0.         0.         0.         0.         0.         0.\n",
            " 0.         0.         0.         0.         0.         0.\n",
            " 0.         0.         0.         0.         0.         0.\n",
            " 0.         0.         0.         0.         0.         0.\n",
            " 0.         0.         0.         0.         0.         0.\n",
            " 0.         0.         0.         0.         0.         0.\n",
            " 0.         0.         0.         0.         0.         0.\n",
            " 0.        ]\n",
            "231\n"
          ]
        }
      ]
    }
  ]
}